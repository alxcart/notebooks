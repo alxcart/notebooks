{
 "cells": [
  {
   "cell_type": "markdown",
   "id": "2ca61f2a",
   "metadata": {},
   "source": [
    "# Format Consistency"
   ]
  },
  {
   "cell_type": "markdown",
   "id": "11066147",
   "metadata": {},
   "source": [
    "##### Resumo / Acompanhamento implementação\n",
    "##### próximos passos\n",
    "- kaggle \n",
    "- builder pluing QGIS\n",
    "- builder reload\n",
    "\n",
    "###### 24/03/2023\n",
    "- No Anaconda criar ambiente \"gispython\", com Python 3.8 (a princípio compatível com geopandas)\n",
    "- Instalar pacote geopandas pelo anaconda (as dependências serão instaladas). \n",
    "- Instalar pacote pyqt\n",
    "- conda install force qgis\n",
    "- conda install force geopandas (iOs)\n",
    "- Para adicionar colaboradores no Github - no repositório > settings > add collaborators\n",
    "\n",
    "\n",
    "###### 08/03/2022: \n",
    "- Mostrar camadas com registros\n",
    "- Mostrar camadas sem registros\n",
    "Nota: exibir mensagem no plugin X camadas sem registros e X com registros\n",
    "\n",
    "###### 07/03/2022: \n",
    "- Exportar para CSV (pronto) incluindo header. Importar em Dados no Excel o arquivo CSV. \n",
    "- Próximos passos: mostrar camadas com registro / diagramar melhor interface \"Format Consistency\"\n",
    "- Próximos passas (consistência de domínio): checar atributos nulos, checar domínios das camadas presentes no projeto. Definir como método da classe checar atributos nulos e domínio. \n",
    "\n",
    "###### 06/03/2022: \n",
    "- Importar funções do main_format_consistency para o Jupyter Lab\n",
    "- Exportar para CSV.\n",
    "- Rodar no QGIS e Jupyter Lab por meio das fuções (exceto: exibir tabela) \n",
    "\n",
    "###### 05/03/2022: \n",
    "- Classe funcionando\n",
    "- Pentente: \n",
    "    - Importar funções do main_format_consistency para o Jupyter Lab\n",
    "    - Exportar para CSV.\n",
    "    - Rodar no QGIS e Jupyter Lab por meio das fuções (exceto: exibir tabela) \n",
    "    \n",
    "###### 04/03/2022: \n",
    "- Função cria lista - ok. O resultado é uma lista com todos os vetores presentes na pasta/banco de dados identificados com QqsVectorLayers. Todas as funções de layers funcionando. (OK). \n",
    "- Função lista_layers (com LayerInfo) não funcionando. \n",
    "    - Rever criação da classe LayerInfo. \n",
    "    - Converter lista para dicionário ou dataframe. \n",
    "    - Usar classe - orientação a objeto (ver vídeo: https://youtu.be/RLVbB91A5-8?t=1937)\n"
   ]
  },
  {
   "cell_type": "markdown",
   "id": "74fb04d6",
   "metadata": {
    "tags": []
   },
   "source": [
    "#### Ambiente QGIS / Environment \"gisphython\"\n",
    "##### Funções, constantes e bibliotecas\n",
    "Executável no Terminal Python QGIS ou no Jupyter Notebook com as configurações a seguir\n",
    "- original do plugin Consistência de Formato"
   ]
  },
  {
   "cell_type": "markdown",
   "id": "1180a54e",
   "metadata": {},
   "source": [
    "## Importar bibliotecas para dados espaciais\n",
    "### Instalação Geopandas\n",
    "Mais informações em: https://geopandas.org/en/stable/docs/reference/api/geopandas.GeoDataFrame.html\n",
    "\n",
    "### Instalação PyQGIS\n",
    "https://anaconda.org/conda-forge/qgis"
   ]
  },
  {
   "cell_type": "code",
   "execution_count": 1,
   "id": "f9611c2b",
   "metadata": {
    "tags": []
   },
   "outputs": [],
   "source": [
    "import os.path\n",
    "import sys \n",
    "from PyQt5.QtCore import QSettings, QTranslator, qVersion, QCoreApplication, QFileInfo, QFile\n",
    "from PyQt5.QtGui import QIcon\n",
    "from PyQt5.QtWidgets import QAction, QFileDialog, QTableWidgetItem, QApplication, QTableWidget\n",
    "from qgis.core import QgsProject, QgsVectorFileWriter,QgsCoordinateReferenceSystem, QgsVectorLayer\n",
    "#from qgis.core import QgsCoordinateReferenceSystem as Hoh"
   ]
  },
  {
   "cell_type": "markdown",
   "id": "a1ef34f9",
   "metadata": {},
   "source": [
    "#### Importar bibliotecas Geopandas"
   ]
  },
  {
   "cell_type": "code",
   "execution_count": 2,
   "id": "7628079d",
   "metadata": {},
   "outputs": [],
   "source": [
    "import pandas as pd\n",
    "import os\n",
    "import fiona # Leitura e escrita de dados espaciais\n",
    "import geopandas as gpds # Leitura e escrita de dados espaciais\n",
    "import matplotlib\n",
    "%matplotlib inline "
   ]
  },
  {
   "cell_type": "markdown",
   "id": "44ff5145",
   "metadata": {},
   "source": [
    "#### Importar bibliotecas do PyQGIS"
   ]
  },
  {
   "cell_type": "code",
   "execution_count": 3,
   "id": "9b7dd25e",
   "metadata": {},
   "outputs": [],
   "source": [
    "import sys\n",
    "import os\n",
    "#import os.path\n",
    "from osgeo import ogr\n",
    "import qgis\n",
    "import qgis.core\n",
    "from qgis.core import *\n",
    "#from qgis.utils import *\n",
    "from osgeo import ogr"
   ]
  },
  {
   "cell_type": "markdown",
   "id": "5d7e89b1",
   "metadata": {
    "tags": []
   },
   "source": [
    "#### Importar bibliotecas da inteface PyQt5"
   ]
  },
  {
   "cell_type": "code",
   "execution_count": 4,
   "id": "eb131559",
   "metadata": {
    "tags": []
   },
   "outputs": [],
   "source": [
    "from PyQt5 import QtWidgets\n",
    "from PyQt5.QtWidgets import QAction, QFileDialog, QMessageBox, QMainWindow, QApplication\n",
    "from qgis.PyQt.QtCore import *"
   ]
  },
  {
   "cell_type": "markdown",
   "id": "97ed8d88",
   "metadata": {
    "tags": []
   },
   "source": [
    "#### Importar scripts (main) da consistência de formato\n",
    "###### O script principal contempla as seguintes funções (def): "
   ]
  },
  {
   "cell_type": "markdown",
   "id": "4cb91e3e",
   "metadata": {
    "tags": []
   },
   "source": [
    "###### No Jupyter usar sys.path.append para importar o \"main\" do diretório do plugin"
   ]
  },
  {
   "cell_type": "code",
   "execution_count": 5,
   "id": "dcb9cb9f",
   "metadata": {
    "tags": []
   },
   "outputs": [],
   "source": [
    "#sys.path.append(os.path.abspath(r\"C:/Users/Admin/AppData/Roaming/QGIS/QGIS3/profiles/default/python/plugins/FormatConsistency/\"))"
   ]
  },
  {
   "cell_type": "code",
   "execution_count": 6,
   "id": "2cd6f67e",
   "metadata": {
    "tags": []
   },
   "outputs": [],
   "source": [
    "sys.path.append(os.path.abspath(r\"C:/Users/ibge/AppData/Roaming/QGIS/QGIS3/profiles/desenv/python/plugins/FormatConsistency/\"))"
   ]
  },
  {
   "cell_type": "code",
   "execution_count": 7,
   "id": "02fc0cb9",
   "metadata": {
    "tags": []
   },
   "outputs": [],
   "source": [
    "# Initialize Qt resources from file resources.py\n",
    "# desabilitado # from .resources import *\n",
    "# Import the code for the dialog\n",
    "# desabilitado # from .FormatConsistency_dialog import FormatConsistencyDialog"
   ]
  },
  {
   "cell_type": "code",
   "execution_count": 8,
   "id": "c80e4011",
   "metadata": {
    "tags": []
   },
   "outputs": [],
   "source": [
    "#from resources import * # removido \"ponto\" após uso do sys.path.append"
   ]
  },
  {
   "cell_type": "code",
   "execution_count": 9,
   "id": "1eee7bde",
   "metadata": {},
   "outputs": [],
   "source": [
    "#from FormatConsistency_dialog import FormatConsistencyDialog # removido \"ponto\" após uso do sys.path.append"
   ]
  },
  {
   "cell_type": "markdown",
   "id": "f89a1d14",
   "metadata": {},
   "source": [
    "## ------------ MAIN ----------------------"
   ]
  },
  {
   "cell_type": "markdown",
   "id": "2c33dfd8",
   "metadata": {},
   "source": [
    "##### Main Format Consistency\n",
    "- classe LayerInfo: name, crs, encoding, formato, isValid\n",
    "- funções (def): cria lista, cria lista layers, mostra tabela (QGIS).\n",
    "    - pendente: exportar para CSV\n",
    "    - pendente: mostrar/ocultar camadas com feições (count > 0)\n",
    "###### Nota: \n",
    "criar método função classe LayerInfo, para chegar atributos nulos e domínios preenchidos. "
   ]
  },
  {
   "cell_type": "code",
   "execution_count": 11,
   "id": "7b18baaf",
   "metadata": {},
   "outputs": [],
   "source": [
    "from main_format_consistency import *"
   ]
  },
  {
   "cell_type": "markdown",
   "id": "3bd078ca",
   "metadata": {},
   "source": [
    "###### Nota:\n",
    "Não é necessário importar a classe FormatConsistencyDialog em main_format_consistency (redundate). Ela deve ser chamada apenas no script principal do plugin em FormatConsistency.py. "
   ]
  },
  {
   "cell_type": "markdown",
   "id": "5c9dd495",
   "metadata": {},
   "source": [
    "## ----------------------------------"
   ]
  },
  {
   "cell_type": "markdown",
   "id": "142a73db",
   "metadata": {
    "tags": []
   },
   "source": [
    "### Nota: Visual Studio e Github \n",
    "- Editar o script \"main\" no Visual Studio.\n",
    "- Editar o script FormatConsistency.py no Visual Studio\n",
    "- Sincronizar a pasta com o Github (alxcart) e os branches. "
   ]
  },
  {
   "cell_type": "markdown",
   "id": "b9b655c4",
   "metadata": {},
   "source": [
    "### Escopo\n",
    "- Saída em XLS (classes com e sem registro no banco) - CSV\n",
    "- Mostrar apenas classes com registro\n",
    "- Exportar classes sem registros\n",
    "- Exportar classes com registro\n",
    "\n",
    "#### Fora do escopo\n",
    "- Consistência de Domínio\n",
    "- Consistência Conceitual"
   ]
  },
  {
   "cell_type": "markdown",
   "id": "858596ab",
   "metadata": {},
   "source": [
    "### Constantes do plugin\n",
    "##### Tabela 1 - Plugin sem constantes\n",
    "- criar um arquivo *.py relativo a classe LayerInfo"
   ]
  },
  {
   "cell_type": "markdown",
   "id": "7b433dba",
   "metadata": {},
   "source": [
    "# --------------Entrada de Dados -------------------"
   ]
  },
  {
   "cell_type": "markdown",
   "id": "85b8de6b",
   "metadata": {},
   "source": [
    "### Diretório de Trabalho\n",
    "##### Selecionar camada(s) do conjunto de dados\n",
    "\n",
    "###### - Definir diretório do conjunto de dados (pasta)\n",
    "\n",
    "###### - Definir a base de dados (pasta)\n",
    "\n",
    "###### - Definir a(s) camadas (shp, geopackage, entre outros)\n",
    "\n",
    "###### Nota:\n",
    "###### Carregar o formato desejado. Por exemplo: dados = 'bc250_vicosa_2019.gpkg'"
   ]
  },
  {
   "cell_type": "markdown",
   "id": "915ecbf3",
   "metadata": {},
   "source": [
    "##### Base de dados"
   ]
  },
  {
   "cell_type": "code",
   "execution_count": 29,
   "id": "a96a93ab",
   "metadata": {
    "jupyter": {
     "source_hidden": true
    },
    "tags": []
   },
   "outputs": [],
   "source": [
    "def path_work():\n",
    "    diretorio = 'C:/Dados/bc250/'\n",
    "    base_de_dados = 'cdg_bc250.gpkg' #'bc100_go_df_shp/' # 'bc250/bc250_2019-10-29.gpkg'\n",
    "    path_project = diretorio + base_de_dados # + dados\n",
    "    return path_project"
   ]
  },
  {
   "cell_type": "markdown",
   "id": "4ae4d543",
   "metadata": {
    "tags": []
   },
   "source": [
    "##### Listar as camadas do conjunto de dados (Fiona)\n",
    "###### No need to pass \"layer='etc'\" if there's only one layer"
   ]
  },
  {
   "cell_type": "code",
   "execution_count": 30,
   "id": "5a03be56",
   "metadata": {},
   "outputs": [],
   "source": [
    "path_project = path_work()"
   ]
  },
  {
   "cell_type": "code",
   "execution_count": 31,
   "id": "2dc1d493",
   "metadata": {},
   "outputs": [],
   "source": [
    "lista_layers = fiona.listlayers(path_project)"
   ]
  },
  {
   "cell_type": "code",
   "execution_count": 32,
   "id": "27492b24",
   "metadata": {
    "jupyter": {
     "source_hidden": true
    },
    "tags": []
   },
   "outputs": [
    {
     "name": "stdout",
     "output_type": "stream",
     "text": [
      "0 lml_cidade_p\n",
      "1 rod_via_deslocamento_l\n",
      "2 lml_municipio_a\n",
      "3 lml_unidade_federacao_a\n",
      "4 lml_pais_a\n"
     ]
    }
   ],
   "source": [
    "c = -1\n",
    "for i in lista_layers:\n",
    "    c = c + 1\n",
    "    print(c, i)  "
   ]
  },
  {
   "cell_type": "code",
   "execution_count": 34,
   "id": "72b4511e",
   "metadata": {
    "tags": []
   },
   "outputs": [
    {
     "data": {
      "text/plain": [
       "list"
      ]
     },
     "execution_count": 34,
     "metadata": {},
     "output_type": "execute_result"
    }
   ],
   "source": [
    "type(lista_layers)"
   ]
  },
  {
   "cell_type": "markdown",
   "id": "67cd9d38",
   "metadata": {},
   "source": [
    "##### Diretório"
   ]
  },
  {
   "cell_type": "code",
   "execution_count": 35,
   "id": "827f7259",
   "metadata": {},
   "outputs": [
    {
     "data": {
      "text/plain": [
       "'C:/Dados/bc250/cdg_bc250.gpkg'"
      ]
     },
     "execution_count": 35,
     "metadata": {},
     "output_type": "execute_result"
    }
   ],
   "source": [
    "directory = path_project\n",
    "directory"
   ]
  },
  {
   "cell_type": "markdown",
   "id": "c3f8f1b9",
   "metadata": {},
   "source": [
    "##### Selecionar camada a partir do \"id\""
   ]
  },
  {
   "cell_type": "code",
   "execution_count": 36,
   "id": "170ae175",
   "metadata": {
    "tags": []
   },
   "outputs": [
    {
     "name": "stdout",
     "output_type": "stream",
     "text": [
      "rod_via_deslocamento_l\n"
     ]
    }
   ],
   "source": [
    "id = 1\n",
    "ly_name = lista_layers[id]\n",
    "print(ly_name)"
   ]
  },
  {
   "cell_type": "code",
   "execution_count": 38,
   "id": "e2c12d23",
   "metadata": {},
   "outputs": [
    {
     "data": {
      "text/plain": [
       "str"
      ]
     },
     "execution_count": 38,
     "metadata": {},
     "output_type": "execute_result"
    }
   ],
   "source": [
    "type(lista_layers[1])"
   ]
  },
  {
   "cell_type": "markdown",
   "id": "381b7d02",
   "metadata": {},
   "source": [
    "##### Transformando em QgsVectorLayer\n",
    "A partir de um item da lista (lista_layers) transformar em QgsVectorLayer"
   ]
  },
  {
   "cell_type": "code",
   "execution_count": 39,
   "id": "2dd01812",
   "metadata": {
    "tags": []
   },
   "outputs": [
    {
     "data": {
      "text/plain": [
       "False"
      ]
     },
     "execution_count": 39,
     "metadata": {},
     "output_type": "execute_result"
    }
   ],
   "source": [
    "layer = QgsVectorLayer(path_project + ly_name  + \".shp\", ly_name, \"ogr\")\n",
    "selection = layer\n",
    "layer.isValid()"
   ]
  },
  {
   "cell_type": "code",
   "execution_count": 40,
   "id": "f5cd7f90",
   "metadata": {},
   "outputs": [
    {
     "data": {
      "text/plain": [
       "qgis._core.QgsVectorLayer"
      ]
     },
     "execution_count": 40,
     "metadata": {},
     "output_type": "execute_result"
    }
   ],
   "source": [
    "type(layer)"
   ]
  },
  {
   "cell_type": "markdown",
   "id": "50c0f5a4",
   "metadata": {},
   "source": [
    "##### Layer selection"
   ]
  },
  {
   "cell_type": "code",
   "execution_count": 41,
   "id": "4d540c6d",
   "metadata": {
    "tags": []
   },
   "outputs": [
    {
     "data": {
      "text/plain": [
       "'rod_via_deslocamento_l'"
      ]
     },
     "execution_count": 41,
     "metadata": {},
     "output_type": "execute_result"
    }
   ],
   "source": [
    "selection = layer\n",
    "selection.name()"
   ]
  },
  {
   "cell_type": "markdown",
   "id": "79958b9d",
   "metadata": {},
   "source": [
    "##### Data provider from selection \n",
    "###### camada/layer = selection"
   ]
  },
  {
   "cell_type": "code",
   "execution_count": null,
   "id": "dbd998e3",
   "metadata": {},
   "outputs": [],
   "source": [
    "dp = selection.dataProvider()\n",
    "provider = dp \n",
    "geometry = selection.wkbType()\n",
    "crs = provider.crs()\n",
    "encoding = dp.encoding()\n",
    "source_layer = selection.dataProvider().dataSourceUri()"
   ]
  },
  {
   "cell_type": "code",
   "execution_count": null,
   "id": "3db19ccc",
   "metadata": {},
   "outputs": [],
   "source": [
    "source_layer"
   ]
  },
  {
   "cell_type": "markdown",
   "id": "deb2c7bb",
   "metadata": {},
   "source": [
    "# ------------------------------------------"
   ]
  },
  {
   "cell_type": "markdown",
   "id": "635f7761",
   "metadata": {},
   "source": [
    "### Funções Consistência de Formato / Consistency Format\n",
    "###### Nota: \n",
    "- def cria_lista: função para criar uma lista com QgsVectorLayers\n",
    "- def list_layers: função para criar lista de layers com a síntese de suas características (nome, formato, geometria, crs, encoding, validade), conforme a classe LayerInfo. \n",
    "\n",
    "- Função lista_layers (com LayerInfo) não funcionando. \n",
    "    - Rever criação da classe LayerInfo. \n",
    "    - Converter lista para dicionário ou dataframe. \n",
    "    - Usar classe - orientação a objeto (ver vídeo: https://youtu.be/RLVbB91A5-8?t=1937)"
   ]
  },
  {
   "cell_type": "markdown",
   "id": "24e49696",
   "metadata": {},
   "source": [
    "### Teste vetor"
   ]
  },
  {
   "cell_type": "code",
   "execution_count": null,
   "id": "a397ec3a",
   "metadata": {
    "jupyter": {
     "outputs_hidden": true,
     "source_hidden": true
    },
    "tags": []
   },
   "outputs": [],
   "source": [
    "'''\n",
    "def geometry_vector():\n",
    "    format_type = \"NA\" \n",
    "    geometry_type = \"NA\"    \n",
    "    if layer_sample.wkbType() == 1001 or layer_sample.wkbType() == 1:#QgsWkbTypes.Point:\n",
    "        format_type = \"vector\" \n",
    "        geometry_type = \"point\"\n",
    "    if layer_sample.wkbType() == 1005 or layer_sample.wkbType() == 5:#QgsWkbTypes.LineString:\n",
    "        format_type = \"vector\" \n",
    "        geometry_type = \"line\"\n",
    "    if layer_sample.wkbType() == 1006 or layer_sample.wkbType() == 6:#QgsWkbTypes.Polygon: \n",
    "        format_type = \"vector\" \n",
    "        geometry_type = \"polygon\" \n",
    "'''"
   ]
  },
  {
   "cell_type": "markdown",
   "id": "2a2cee96",
   "metadata": {
    "jupyter": {
     "source_hidden": true
    },
    "tags": []
   },
   "source": [
    "#### Função \"cria lista\" \n",
    "###### Nota:\n",
    "Uso apenas no Jupyter Lab\n",
    "###### (DEF) Função para criar uma lista de QgsVectorLayer(s)\n",
    "###### A função (def) foi comentada para teste do script \"main_format_consistency.py\""
   ]
  },
  {
   "cell_type": "code",
   "execution_count": null,
   "id": "0c92e59c",
   "metadata": {
    "jupyter": {
     "outputs_hidden": true,
     "source_hidden": true
    },
    "tags": []
   },
   "outputs": [],
   "source": [
    "'''\n",
    "def cria_lista(lista_layers_txt):\n",
    "    lista = list(range(len(lista_layers_txt)))\n",
    "    for id, i in enumerate(lista_layers_txt):\n",
    "        camada = QgsVectorLayer(path_project + i  + \".shp\",  i, \"ogr\")\n",
    "        lista[id] = camada\n",
    "    return lista\n",
    "'''"
   ]
  },
  {
   "cell_type": "markdown",
   "id": "6c610453",
   "metadata": {},
   "source": [
    "###### (TESTE) Função Cria Lista QgsVectorLayers\n",
    "###### Nota (06/03/2022): na implementação em QGIS foi acrescentado o argumento \"diretório\" a função (def) cria_lista (original em Jupyter Lab)"
   ]
  },
  {
   "cell_type": "code",
   "execution_count": null,
   "id": "1576e849",
   "metadata": {
    "tags": []
   },
   "outputs": [],
   "source": [
    "layers = cria_lista(lista_layers)"
   ]
  },
  {
   "cell_type": "code",
   "execution_count": null,
   "id": "91e2497f",
   "metadata": {},
   "outputs": [],
   "source": [
    "type(layers)"
   ]
  },
  {
   "cell_type": "markdown",
   "id": "1278ec96",
   "metadata": {},
   "source": [
    "##### Layer selection"
   ]
  },
  {
   "cell_type": "code",
   "execution_count": null,
   "id": "d73c74cf",
   "metadata": {
    "tags": []
   },
   "outputs": [],
   "source": [
    "id = 1\n",
    "selection = layers[id]\n",
    "print(str(selection.name()) + \", \" + str(selection.featureCount()))"
   ]
  },
  {
   "cell_type": "markdown",
   "id": "f22629a9",
   "metadata": {},
   "source": [
    "##### Data provider from selection \n",
    "###### camada/layer = selection"
   ]
  },
  {
   "cell_type": "code",
   "execution_count": null,
   "id": "d456848a",
   "metadata": {},
   "outputs": [],
   "source": [
    "dp = selection.dataProvider()\n",
    "provider = dp \n",
    "geometry = selection.wkbType()\n",
    "crs = provider.crs()\n",
    "encoding = dp.encoding()\n",
    "source_layer = selection.dataProvider().dataSourceUri()"
   ]
  },
  {
   "cell_type": "code",
   "execution_count": null,
   "id": "d7c70d5c",
   "metadata": {},
   "outputs": [],
   "source": [
    "selection"
   ]
  },
  {
   "cell_type": "code",
   "execution_count": null,
   "id": "334cc74a",
   "metadata": {},
   "outputs": [],
   "source": [
    "selection.type()"
   ]
  },
  {
   "cell_type": "code",
   "execution_count": null,
   "id": "c21cc040",
   "metadata": {},
   "outputs": [],
   "source": [
    "selection.type()==QgsMapLayerType.VectorLayer"
   ]
  },
  {
   "cell_type": "code",
   "execution_count": null,
   "id": "e323c883",
   "metadata": {},
   "outputs": [],
   "source": [
    "selection.name(), dp, geometry, crs, encoding, source_layer"
   ]
  },
  {
   "cell_type": "markdown",
   "id": "e21f5a0e",
   "metadata": {},
   "source": [
    "##### (CLASSE) Função criar classe LayerInfo\n",
    "###### A classe (class) foi comentada para teste do script \"main_format_consistency.py\""
   ]
  },
  {
   "cell_type": "code",
   "execution_count": null,
   "id": "a55c14c4",
   "metadata": {
    "jupyter": {
     "source_hidden": true
    },
    "tags": []
   },
   "outputs": [],
   "source": [
    "'''\n",
    "from datetime import datetime\n",
    "#def classe_camadas():\n",
    "class LayerInfo: # Não está funcionando para esta lista / \n",
    "    ano_atual = int(datetime.strftime(datetime.now(), '%Y'))\n",
    "    def __init__(self, layer):\n",
    "        self.name = layer.name()\n",
    "        self.crs = layer.crs().description()\n",
    "        try:\n",
    "            self.encoding = layer.dataProvider().encoding()\n",
    "            self.count = int(layer.featureCount())\n",
    "            self.formato = layer.storageType()\n",
    "        except AttributeError:\n",
    "            pass\n",
    "        self.isValid = layer.isValid()\n",
    "    def adicionaName(self, object):\n",
    "        self.name.append(self.object)\n",
    "    def adicionaCRS(self, object):\n",
    "        self.crs.append(self.object)\n",
    "    def adicionaCount(self, object):\n",
    "        self.count.append(self.object)\n",
    "    def adicionaFormato(self, object):\n",
    "        self.formato.append(self.object)\n",
    "    def adicionaIs_Valid(self, object):\n",
    "        self.is_Valid.append(self.object)\n",
    "'''"
   ]
  },
  {
   "cell_type": "markdown",
   "id": "1baabd38",
   "metadata": {},
   "source": [
    "##### (TESTE) Classe LayerInfo"
   ]
  },
  {
   "cell_type": "code",
   "execution_count": null,
   "id": "a751ef3c",
   "metadata": {},
   "outputs": [],
   "source": [
    "selection.name()"
   ]
  },
  {
   "cell_type": "code",
   "execution_count": null,
   "id": "689e9543",
   "metadata": {},
   "outputs": [],
   "source": [
    "layer = selection"
   ]
  },
  {
   "cell_type": "code",
   "execution_count": null,
   "id": "487f9a72",
   "metadata": {},
   "outputs": [],
   "source": [
    "layer['NOME']==NULL"
   ]
  },
  {
   "cell_type": "code",
   "execution_count": null,
   "id": "919d5a29",
   "metadata": {},
   "outputs": [],
   "source": [
    "type(layer.featureCount())"
   ]
  },
  {
   "cell_type": "code",
   "execution_count": null,
   "id": "f5e30716",
   "metadata": {},
   "outputs": [],
   "source": [
    "layer"
   ]
  },
  {
   "cell_type": "code",
   "execution_count": null,
   "id": "05193a11",
   "metadata": {},
   "outputs": [],
   "source": [
    "layer.dataProvider().dataSourceUri()"
   ]
  },
  {
   "cell_type": "code",
   "execution_count": null,
   "id": "aebb1ad3",
   "metadata": {},
   "outputs": [],
   "source": [
    "camadas = LayerInfo(layer)"
   ]
  },
  {
   "cell_type": "code",
   "execution_count": null,
   "id": "0ce05504",
   "metadata": {},
   "outputs": [],
   "source": [
    "camadas.name"
   ]
  },
  {
   "cell_type": "code",
   "execution_count": null,
   "id": "30c42ab9",
   "metadata": {},
   "outputs": [],
   "source": [
    "camadas.count"
   ]
  },
  {
   "cell_type": "markdown",
   "id": "8d428bb4",
   "metadata": {},
   "source": []
  },
  {
   "cell_type": "code",
   "execution_count": null,
   "id": "efc897f6",
   "metadata": {},
   "outputs": [],
   "source": [
    "type(camadas)"
   ]
  },
  {
   "cell_type": "code",
   "execution_count": null,
   "id": "b61fa442",
   "metadata": {},
   "outputs": [],
   "source": [
    "camadas.crs"
   ]
  },
  {
   "cell_type": "code",
   "execution_count": null,
   "id": "d32ba4ac",
   "metadata": {},
   "outputs": [],
   "source": [
    "camadas.name"
   ]
  },
  {
   "cell_type": "code",
   "execution_count": null,
   "id": "9caf0546",
   "metadata": {},
   "outputs": [],
   "source": [
    "camadas.encoding"
   ]
  },
  {
   "cell_type": "code",
   "execution_count": null,
   "id": "c250a691",
   "metadata": {},
   "outputs": [],
   "source": [
    "camadas.formato"
   ]
  },
  {
   "cell_type": "code",
   "execution_count": null,
   "id": "c9cd507a",
   "metadata": {},
   "outputs": [],
   "source": [
    "camadas.count"
   ]
  },
  {
   "cell_type": "code",
   "execution_count": null,
   "id": "278bbefb",
   "metadata": {},
   "outputs": [],
   "source": [
    "type(camadas.count)"
   ]
  },
  {
   "cell_type": "code",
   "execution_count": null,
   "id": "c864a22b",
   "metadata": {},
   "outputs": [],
   "source": [
    "#camadas.dataProvider().dataSourceUri()"
   ]
  },
  {
   "cell_type": "markdown",
   "id": "7cfb53e3",
   "metadata": {},
   "source": [
    "##### Nota: converter o atributo count (acima) para inteiro (int) ao invés de real (float)"
   ]
  },
  {
   "cell_type": "code",
   "execution_count": null,
   "id": "7c134682",
   "metadata": {},
   "outputs": [],
   "source": [
    "layer_list = [] #vazia\n",
    "layer_count = 0"
   ]
  },
  {
   "cell_type": "code",
   "execution_count": null,
   "id": "ace84c30",
   "metadata": {},
   "outputs": [],
   "source": [
    "layers = cria_lista(lista_layers)"
   ]
  },
  {
   "cell_type": "code",
   "execution_count": null,
   "id": "bba21d47",
   "metadata": {},
   "outputs": [],
   "source": [
    "type(layers)"
   ]
  },
  {
   "cell_type": "code",
   "execution_count": null,
   "id": "c7c1c652",
   "metadata": {},
   "outputs": [],
   "source": [
    "len(layers)"
   ]
  },
  {
   "cell_type": "code",
   "execution_count": null,
   "id": "d2a8d7c8",
   "metadata": {},
   "outputs": [],
   "source": [
    "layer_list.append(LayerInfo(layer))"
   ]
  },
  {
   "cell_type": "code",
   "execution_count": null,
   "id": "d14a720c",
   "metadata": {},
   "outputs": [],
   "source": [
    "layer_list"
   ]
  },
  {
   "cell_type": "code",
   "execution_count": null,
   "id": "f23e893a",
   "metadata": {},
   "outputs": [],
   "source": [
    "#layer_list.name"
   ]
  },
  {
   "cell_type": "code",
   "execution_count": null,
   "id": "4bf30d3b",
   "metadata": {},
   "outputs": [],
   "source": [
    "dir(layer_list)"
   ]
  },
  {
   "cell_type": "code",
   "execution_count": null,
   "id": "50ab83f3",
   "metadata": {},
   "outputs": [],
   "source": [
    "layer_list[0].name"
   ]
  },
  {
   "cell_type": "markdown",
   "id": "ee3b1cd0",
   "metadata": {},
   "source": [
    "###### (DEF) Função para criar uma lista com a síntese de informações das camadas\n",
    "###### A função (def) foi comentada para teste do script \"main_format_consistency.py\""
   ]
  },
  {
   "cell_type": "code",
   "execution_count": null,
   "id": "6e6d8b1a",
   "metadata": {
    "jupyter": {
     "source_hidden": true
    },
    "tags": []
   },
   "outputs": [],
   "source": [
    "'''\n",
    "# Iterate over all loaded layers\n",
    "def list_layers(lista_layers):\n",
    "    layer_list = [] #vazia\n",
    "    layer_count = 0\n",
    "    \n",
    "    # Create layer list\n",
    "    layers = QgsProject.instance().mapLayers().values()\n",
    "    if len(layers)==0:\n",
    "        layers = cria_lista(lista_layers)\n",
    "    if len(layers)>0:\n",
    "        for layer in layers:\n",
    "            layer_count += 1\n",
    "            layer_list.append(LayerInfo(layer))\n",
    "    return layer_list \n",
    "'''"
   ]
  },
  {
   "cell_type": "code",
   "execution_count": null,
   "id": "4a6adfe0",
   "metadata": {
    "tags": []
   },
   "outputs": [],
   "source": [
    "# Entrada = cria_lista (lista_layers)\n",
    "lista_final = list_layers(lista_layers)\n",
    "#lista_final"
   ]
  },
  {
   "cell_type": "code",
   "execution_count": null,
   "id": "38772dae",
   "metadata": {},
   "outputs": [],
   "source": [
    "QgsProject.instance().fileName()"
   ]
  },
  {
   "cell_type": "code",
   "execution_count": null,
   "id": "8dc07fb7",
   "metadata": {
    "tags": []
   },
   "outputs": [],
   "source": [
    "type(lista_final)"
   ]
  },
  {
   "cell_type": "code",
   "execution_count": null,
   "id": "71a1cc68",
   "metadata": {},
   "outputs": [],
   "source": [
    "len(lista_final)"
   ]
  },
  {
   "cell_type": "code",
   "execution_count": null,
   "id": "07206895",
   "metadata": {},
   "outputs": [],
   "source": [
    "lista_final[0]"
   ]
  },
  {
   "cell_type": "code",
   "execution_count": null,
   "id": "907688fb",
   "metadata": {},
   "outputs": [],
   "source": [
    "lista_final[10].name"
   ]
  },
  {
   "cell_type": "code",
   "execution_count": null,
   "id": "6d569482",
   "metadata": {},
   "outputs": [],
   "source": [
    "lista_final[10]"
   ]
  },
  {
   "cell_type": "code",
   "execution_count": null,
   "id": "b7720901",
   "metadata": {
    "jupyter": {
     "source_hidden": true
    },
    "tags": []
   },
   "outputs": [],
   "source": [
    "for id, i in enumerate(lista_final):\n",
    "    print (id, i.name)"
   ]
  },
  {
   "cell_type": "markdown",
   "id": "fdefca0d",
   "metadata": {},
   "source": [
    "#### (DEF) Função Mostrar Tabela \n",
    "##### Uso somente no QGIS (Tela inicial do plugin)"
   ]
  },
  {
   "cell_type": "code",
   "execution_count": null,
   "id": "faa173bf",
   "metadata": {
    "tags": []
   },
   "outputs": [],
   "source": [
    "#app = QApplication()"
   ]
  },
  {
   "cell_type": "code",
   "execution_count": null,
   "id": "cd75ddba",
   "metadata": {},
   "outputs": [],
   "source": [
    "#table = QTableWidget()"
   ]
  },
  {
   "cell_type": "code",
   "execution_count": null,
   "id": "6088faf5",
   "metadata": {},
   "outputs": [],
   "source": [
    "#dlg1 = FormatConsistencyDialog()"
   ]
  },
  {
   "cell_type": "code",
   "execution_count": null,
   "id": "ae3594ab",
   "metadata": {
    "jupyter": {
     "source_hidden": true
    },
    "tags": []
   },
   "outputs": [],
   "source": [
    "'''\n",
    "def mostrar_tabela(self, layers):\n",
    "    camadas_info = list_layers(layers)\n",
    "    # Generate data table\n",
    "    self.dlg1.tableWidget.clear()\n",
    "    self.dlg1.tableWidget.setRowCount(len(layers))\n",
    "    self.dlg1.tableWidget.setColumnCount(6)\n",
    "    self.dlg1.tableWidget.setColumnWidth(0, 200)\n",
    "    self.dlg1.tableWidget.horizontalHeader().setStretchLastSection(True)\n",
    "\n",
    "    self.dlg1.tableWidget.setHorizontalHeaderItem(0, QTableWidgetItem(\"Layer\"))\n",
    "    self.dlg1.tableWidget.setHorizontalHeaderItem(1, QTableWidgetItem(\"SRC\"))\n",
    "    self.dlg1.tableWidget.setHorizontalHeaderItem(2, QTableWidgetItem(\"Econding\"))\n",
    "    self.dlg1.tableWidget.setHorizontalHeaderItem(3, QTableWidgetItem(\"Count\"))\n",
    "    self.dlg1.tableWidget.setHorizontalHeaderItem(4, QTableWidgetItem(\"Format\"))\n",
    "    self.dlg1.tableWidget.setHorizontalHeaderItem(5, QTableWidgetItem(\"isValid\"))\n",
    "\n",
    "    #for layer in camadas_info:\n",
    "    for id, layer in enumerate(camadas_info):            \n",
    "        self.dlg1.tableWidget.setItem(id, 0, QTableWidgetItem(layer.name()))\n",
    "        self.dlg1.tableWidget.setItem(id, 1, QTableWidgetItem(layer.crs().description()))\n",
    "        self.dlg1.tableWidget.setItem(id, 2, QTableWidgetItem(layer.dataProvider().encoding()))\n",
    "        self.dlg1.tableWidget.setItem(id, 3, QTableWidgetItem(str(layer.featureCount())))\n",
    "        self.dlg1.tableWidget.setItem(id, 4, QTableWidgetItem(layer.storageType()))\n",
    "        self.dlg1.tableWidget.setItem(id, 5, QTableWidgetItem(str(layer.isValid())))\n",
    "\n",
    "    self.dlg1.tableWidget.move(0, 0)\n",
    "'''"
   ]
  },
  {
   "cell_type": "code",
   "execution_count": null,
   "id": "03d22aa9",
   "metadata": {},
   "outputs": [],
   "source": [
    "layersTeste = QgsProject.instance().mapLayers().values()"
   ]
  },
  {
   "cell_type": "code",
   "execution_count": null,
   "id": "b7558352",
   "metadata": {},
   "outputs": [],
   "source": [
    "type(layersTeste)"
   ]
  },
  {
   "cell_type": "code",
   "execution_count": null,
   "id": "9d07d2fe",
   "metadata": {},
   "outputs": [],
   "source": [
    "len(layersTeste)==0"
   ]
  },
  {
   "cell_type": "code",
   "execution_count": null,
   "id": "a59fdcc1",
   "metadata": {},
   "outputs": [],
   "source": [
    "'''\n",
    "def save_to_file():\n",
    "    dialog = QFileDialog()\n",
    "    name = dialog.getSaveFileName(None, \"Export result to CSV\", \"\", \"CSV file (*.csv)\")\n",
    "    if name[0] == \"\":\n",
    "        return None\n",
    "        \n",
    "    save_file = open(name[0], 'w')\n",
    "        \n",
    "    for i in layer_list:\n",
    "        save_file.write(\"%s,%s\\n\" % (i.name, i.crs))\n",
    "        \n",
    "    save_file.close()\n",
    "'''"
   ]
  },
  {
   "cell_type": "code",
   "execution_count": null,
   "id": "10e6e3d4",
   "metadata": {},
   "outputs": [],
   "source": []
  },
  {
   "cell_type": "markdown",
   "id": "4ef0e62a",
   "metadata": {},
   "source": [
    "### Script Principal FormatConsistency.py"
   ]
  },
  {
   "cell_type": "code",
   "execution_count": null,
   "id": "df7df7f1",
   "metadata": {
    "tags": []
   },
   "outputs": [],
   "source": [
    "class FormatConsistency:\n",
    "    \"\"\"QGIS Plugin Implementation.\"\"\"\n",
    "\n",
    "    def __init__(self, iface):\n",
    "        \"\"\"Constructor.\n",
    "\n",
    "        :param iface: An interface instance that will be passed to this class\n",
    "            which provides the hook by which you can manipulate the QGIS\n",
    "            application at run time.\n",
    "        :type iface: QgsInterface\n",
    "        \"\"\"\n",
    "        # Save reference to the QGIS interface\n",
    "        self.iface = iface\n",
    "        # Initialize plugin directory\n",
    "        self.plugin_dir = os.path.dirname(__file__)\n",
    "        # Initialize locale\n",
    "        locale = QSettings().value('locale/userLocale')[0:2]\n",
    "        locale_path = os.path.join(\n",
    "            self.plugin_dir,\n",
    "            'i18n',\n",
    "            'FormatConsistency_{}.qm'.format(locale))\n",
    "\n",
    "        if os.path.exists(locale_path):\n",
    "            self.translator = QTranslator()\n",
    "            self.translator.load(locale_path)\n",
    "\n",
    "            if qVersion() > '4.3.3':\n",
    "                QCoreApplication.installTranslator(self.translator)\n",
    "\n",
    "        # Create the dialog (after translation) and keep reference\n",
    "        self.dlg1 = FormatConsistencyDialog()\n",
    "\n",
    "        # Declare instance attributes\n",
    "        self.actions = []\n",
    "        self.menu = self.tr(u'&Format consistency') ###\n",
    "        # TODO: We are going to let the user set this up in a future iteration\n",
    "        self.toolbar = self.iface.addToolBar(u'FormatConsistency')\n",
    "        self.toolbar.setObjectName(u'FormatConsistency')\n",
    "\n",
    "        ###Select output\n",
    "        #self.dlg1.lineEdit.clear()\n",
    "        #self.dlg1.toolButton.clicked.connect(self.select_output)\n",
    "\n",
    "    # noinspection PyMethodMayBeStatic\n",
    "    def tr(self, message):\n",
    "        \"\"\"Get the translation for a string using Qt translation API.\n",
    "\n",
    "        We implement this ourselves since we do not inherit QObject.\n",
    "\n",
    "        :param message: String for translation.\n",
    "        :type message: str, QString\n",
    "\n",
    "        :returns: Translated version of message.\n",
    "        :rtype: QString\n",
    "        \"\"\"\n",
    "        # noinspection PyTypeChecker,PyArgumentList,PyCallByClass\n",
    "        return QCoreApplication.translate('FormatConsistency', message)\n",
    "\n",
    "    def add_action(\n",
    "            self,\n",
    "            icon_path,\n",
    "            text,\n",
    "            callback,\n",
    "            enabled_flag=True,\n",
    "            add_to_menu=True,\n",
    "            add_to_toolbar=True,\n",
    "            status_tip=None,\n",
    "            whats_this=None,\n",
    "            parent=None):\n",
    "\n",
    "        icon = QIcon(icon_path)\n",
    "        action = QAction(icon, text, parent)\n",
    "        action.triggered.connect(callback)\n",
    "        action.setEnabled(enabled_flag)\n",
    "\n",
    "        if status_tip is not None:\n",
    "            action.setStatusTip(status_tip)\n",
    "\n",
    "        if whats_this is not None:\n",
    "            action.setWhatsThis(whats_this)\n",
    "\n",
    "        if add_to_toolbar:\n",
    "            self.iface.addToolBarIcon(action)\n",
    "\n",
    "        if add_to_menu:\n",
    "            self.iface.addPluginToVectorMenu(\n",
    "                self.menu,\n",
    "                action)\n",
    "\n",
    "        self.actions.append(action)\n",
    "\n",
    "        return action\n",
    "\n",
    "    def initGui(self):\n",
    "        \"\"\"Create the menu entries and toolbar icons inside the QGIS GUI.\"\"\"\n",
    "\n",
    "        # icon_path = ':/plugins/FormatConsistency/icon.ico'\n",
    "        # self.add_action(\n",
    "        #     icon_path,\n",
    "        #     text=self.tr(u'Format consistency'),\n",
    "        #     callback=self.check,\n",
    "        #     #callback=self.run,\n",
    "        #     parent=self.iface.mainWindow())\n",
    "        \n",
    "        # will be set False in run() define check convert\n",
    "        #self.first_start = True\n",
    "\n",
    "        self.add_action(\n",
    "            ':/plugins/FormatConsistency/icon.ico',\n",
    "            text=QApplication.translate('Format consistency', u'Format consistency'),\n",
    "            callback=self.check,\n",
    "            parent=self.iface.mainWindow(),\n",
    "            status_tip=QApplication.translate('Format consistency', 'Format consistency'))\n",
    "\n",
    "    def unload(self):\n",
    "        \"\"\"Removes the plugin menu item and icon from QGIS GUI.\"\"\"\n",
    "        for action in self.actions:\n",
    "            self.iface.removePluginVectorMenu(\n",
    "                self.tr(u'&Format consistency'),\n",
    "                action)\n",
    "            self.iface.removeToolBarIcon(action)\n",
    "        # remove the toolbar\n",
    "        del self.toolbar\n",
    "\n",
    "    # Select output file\n",
    "    # def select_output(self):\n",
    "    #     output_dir = QFileDialog.getExistingDirectory(self.dlg1, \"Select folder\", \"\")\n",
    "    #     #self.dlg1.lineEdit.setText(output_dir)\n",
    "\n",
    "    # def run(self):\n",
    "    #     \"\"\"Run method that performs all the real work\"\"\"\n",
    "    #     # show the dialog\n",
    "    #     self.dlg.show()\n",
    "    #\n",
    "    #     self.dlg.pushButton.clicked.connect(self.check)\n",
    "\n",
    "    def check(self):\n",
    "        ### Begin to simulate in the python terminal\n",
    "        # layers = QgsProject.instance().mapLayers().values() \n",
    "        #ly = iface.activeLayer()\n",
    "        #ly.name()\n",
    "        #selection = ly\n",
    "        #dp = ly.dataProvider()\n",
    "        #lyrInput = selection\n",
    "        #Nivel_de_Inspecao = 1\n",
    "        #path_project = QgsProject.instance().fileName()\n",
    "        #path_project = path_project[:path_project.rfind(\"/\"):]\n",
    "        #directory = path_project + \"/samples\"\n",
    "        ### End to simulate in the python terminal\n",
    "        \n",
    "        # Create layer list\n",
    "        layers = QgsProject.instance().mapLayers().values()\n",
    "\n",
    "        class LayerInfo:\n",
    "            name = \"\"\n",
    "            crs = \"\"\n",
    "            econding = \"\"\n",
    "            count_ = \"\"\n",
    "            formato = \"\"\n",
    "            is_Valid = \"\"\n",
    "\n",
    "        # Generate data table\n",
    "        self.dlg1.tableWidget.clear()\n",
    "        self.dlg1.tableWidget.setRowCount(len(layers))\n",
    "        self.dlg1.tableWidget.setColumnCount(6)\n",
    "        self.dlg1.tableWidget.setColumnWidth(0, 200)\n",
    "        self.dlg1.tableWidget.horizontalHeader().setStretchLastSection(True)\n",
    "\n",
    "        self.dlg1.tableWidget.setHorizontalHeaderItem(0, QTableWidgetItem(\"Layer\"))\n",
    "        self.dlg1.tableWidget.setHorizontalHeaderItem(1, QTableWidgetItem(\"SRC\"))\n",
    "        self.dlg1.tableWidget.setHorizontalHeaderItem(2, QTableWidgetItem(\"Econding\"))\n",
    "        self.dlg1.tableWidget.setHorizontalHeaderItem(3, QTableWidgetItem(\"Count\"))\n",
    "        self.dlg1.tableWidget.setHorizontalHeaderItem(4, QTableWidgetItem(\"Format\"))\n",
    "        self.dlg1.tableWidget.setHorizontalHeaderItem(5, QTableWidgetItem(\"isValid\"))\n",
    "\n",
    "        # Iterate over all loaded layers\n",
    "        layer_list = []\n",
    "        layer_count = 0\n",
    "\n",
    "        for layer in layers:\n",
    "            layer_count += 1\n",
    "\n",
    "            layer_list.append(LayerInfo)\n",
    "            layer_list[layer_count - 1].name = layer.name()\n",
    "            layer_list[layer_count - 1].crs = layer.crs().description()\n",
    "            try:\n",
    "                layer_list[layer_count - 1].econding = layer.dataProvider().encoding()\n",
    "                layer_list[layer_count - 1].count_ = layer.featureCount()\n",
    "                layer_list[layer_count - 1].formato = layer.storageType()\n",
    "            except AttributeError:\n",
    "                pass\n",
    "            \n",
    "            layer_list[layer_count - 1].is_Valid = layer.isValid()\n",
    "            \n",
    "            self.dlg1.tableWidget.setItem(layer_count - 1, 0, QTableWidgetItem(layer.name()))\n",
    "            self.dlg1.tableWidget.setItem(layer_count - 1, 1, QTableWidgetItem(layer.crs().description()))\n",
    "            try: \n",
    "                self.dlg1.tableWidget.setItem(layer_count - 1, 2, QTableWidgetItem(layer.dataProvider().encoding()))\n",
    "                self.dlg1.tableWidget.setItem(layer_count - 1, 3, QTableWidgetItem(str(layer.featureCount())))\n",
    "                self.dlg1.tableWidget.setItem(layer_count - 1, 4, QTableWidgetItem(layer.storageType()))\n",
    "            except AttributeError:\n",
    "                pass\n",
    "            \n",
    "            self.dlg1.tableWidget.setItem(layer_count - 1, 5, QTableWidgetItem(str(layer.isValid())))\n",
    "\n",
    "        self.dlg1.tableWidget.move(0, 0)\n",
    "\n",
    "        def save_to_file():\n",
    "            dialog = QFileDialog()\n",
    "            name = dialog.getSaveFileName(None, \"Export result to CSV\", \"\", \"CSV file (*.csv)\")\n",
    "            if name[0] == \"\":\n",
    "                return None\n",
    "        \n",
    "            save_file = open(name[0], 'w')\n",
    "        \n",
    "            for i in layer_list:\n",
    "                save_file.write(\"%s,%s\\n\" % (i.name, i.crs))\n",
    "        \n",
    "            save_file.close()\n",
    "\n",
    "        self.dlg1.show()\n",
    "        #self.dlg1.pushButton.clicked.connect(save_to_file) "
   ]
  },
  {
   "cell_type": "code",
   "execution_count": null,
   "id": "c98cb9ae",
   "metadata": {
    "jupyter": {
     "source_hidden": true
    },
    "tags": []
   },
   "outputs": [],
   "source": [
    "def mostrar_tabela(self, layers):\n",
    "    camadas_info = list_layers(layers)\n",
    "    # Generate data table\n",
    "    self.dlg1.tableWidget.clear()\n",
    "    self.dlg1.tableWidget.setRowCount(len(layers))\n",
    "    self.dlg1.tableWidget.setColumnCount(6)\n",
    "    self.dlg1.tableWidget.setColumnWidth(0, 200)\n",
    "    self.dlg1.tableWidget.horizontalHeader().setStretchLastSection(True)\n",
    "\n",
    "    self.dlg1.tableWidget.setHorizontalHeaderItem(0, QTableWidgetItem(\"Layer\"))\n",
    "    self.dlg1.tableWidget.setHorizontalHeaderItem(1, QTableWidgetItem(\"SRC\"))\n",
    "    self.dlg1.tableWidget.setHorizontalHeaderItem(2, QTableWidgetItem(\"Econding\"))\n",
    "    self.dlg1.tableWidget.setHorizontalHeaderItem(3, QTableWidgetItem(\"Count\"))\n",
    "    self.dlg1.tableWidget.setHorizontalHeaderItem(4, QTableWidgetItem(\"Format\"))\n",
    "    self.dlg1.tableWidget.setHorizontalHeaderItem(5, QTableWidgetItem(\"isValid\"))\n",
    "\n",
    "    # Iterate over all loaded layers\n",
    "    #layer_list = []\n",
    "    #layer_count = 0\n",
    "\n",
    "        #for layer in camadas_info:\n",
    "        for id, layer in enumerate(camadas_info):\n",
    "            #layer_count += 1\n",
    "            #layer_list.append(LayerInfo)\n",
    "            #layer_list[layer_count - 1].name = layer.name()\n",
    "            #layer_list[layer_count - 1].crs = layer.crs().description()\n",
    "            #try:\n",
    "            #    layer_list[layer_count - 1].econding = layer.dataProvider().encoding()\n",
    "            #    layer_list[layer_count - 1].count_ = layer.featureCount()\n",
    "            #    layer_list[layer_count - 1].formato = layer.storageType()\n",
    "            #except AttributeError:\n",
    "            #    pass\n",
    "            \n",
    "            #layer_list[layer_count - 1].is_Valid = layer.isValid()\n",
    "            \n",
    "            self.dlg1.tableWidget.setItem(id, 0, QTableWidgetItem(layer.name()))\n",
    "            self.dlg1.tableWidget.setItem(id, 1, QTableWidgetItem(layer.crs().description()))\n",
    "            self.dlg1.tableWidget.setItem(id, 2, QTableWidgetItem(layer.dataProvider().encoding()))\n",
    "            self.dlg1.tableWidget.setItem(id, 3, QTableWidgetItem(str(layer.featureCount())))\n",
    "            self.dlg1.tableWidget.setItem(id, 4, QTableWidgetItem(layer.storageType()))\n",
    "            self.dlg1.tableWidget.setItem(id, 5, QTableWidgetItem(str(layer.isValid())))\n",
    "\n",
    "        self.dlg1.tableWidget.move(0, 0)"
   ]
  }
 ],
 "metadata": {
  "kernelspec": {
   "display_name": "Python 3 (ipykernel)",
   "language": "python",
   "name": "python3"
  },
  "language_info": {
   "codemirror_mode": {
    "name": "ipython",
    "version": 3
   },
   "file_extension": ".py",
   "mimetype": "text/x-python",
   "name": "python",
   "nbconvert_exporter": "python",
   "pygments_lexer": "ipython3",
   "version": "3.8.16"
  }
 },
 "nbformat": 4,
 "nbformat_minor": 5
}
