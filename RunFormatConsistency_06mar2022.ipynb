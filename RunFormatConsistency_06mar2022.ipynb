{
 "cells": [
  {
   "cell_type": "markdown",
   "id": "9653db20-6040-4bde-91c6-d6f5e11f9d47",
   "metadata": {},
   "source": [
    "# Format Consistency"
   ]
  },
  {
   "cell_type": "markdown",
   "id": "d880c428-356b-45c8-8db8-2aa7a135c5a3",
   "metadata": {},
   "source": [
    "##### Resumo / Acompanhamento implementação\n",
    "###### 08/03/2022: \n",
    "- Mostrar camadas com registros\n",
    "- Mostrar camadas sem registros\n",
    "Nota: exibir mensagem no plugin X camadas sem registros e X com registros\n",
    "\n",
    "###### 07/03/2022: \n",
    "- Exportar para CSV (pronto) incluindo header. Importar em Dados no Excel o arquivo CSV. \n",
    "- Próximos passos: mostrar camadas com registro / diagramar melhor interface \"Format Consistency\"\n",
    "- Próximos passas (consistência de domínio): checar atributos nulos, checar domínios das camadas presentes no projeto. Definir como método da classe checar atributos nulos e domínio. \n",
    "\n",
    "###### 06/03/2022: \n",
    "- Importar funções do main_format_consistency para o Jupyter Lab\n",
    "- Exportar para CSV.\n",
    "- Rodar no QGIS e Jupyter Lab por meio das fuções (exceto: exibir tabela) \n",
    "\n",
    "###### 05/03/2022: \n",
    "- Classe funcionando\n",
    "- Pentente: \n",
    "    - Importar funções do main_format_consistency para o Jupyter Lab\n",
    "    - Exportar para CSV.\n",
    "    - Rodar no QGIS e Jupyter Lab por meio das fuções (exceto: exibir tabela) \n",
    "    \n",
    "###### 04/03/2022: \n",
    "- Função cria lista - ok. O resultado é uma lista com todos os vetores presentes na pasta/banco de dados identificados com QqsVectorLayers. Todas as funções de layers funcionando. (OK). \n",
    "- Função lista_layers (com LayerInfo) não funcionando. \n",
    "    - Rever criação da classe LayerInfo. \n",
    "    - Converter lista para dicionário ou dataframe. \n",
    "    - Usar classe - orientação a objeto (ver vídeo: https://youtu.be/RLVbB91A5-8?t=1937)\n"
   ]
  },
  {
   "cell_type": "markdown",
   "id": "925c85e2-f888-474c-a5c5-cb8cb6d3d6ef",
   "metadata": {
    "tags": []
   },
   "source": [
    "#### Ambiente QGIS / Environment \"gisphython\"\n",
    "##### Funções, constantes e bibliotecas\n",
    "Executável no Terminal Python QGIS ou no Jupyter Notebook com as configurações a seguir\n",
    "- original do plugin Consistência de Formato"
   ]
  },
  {
   "cell_type": "code",
   "execution_count": 1,
   "id": "1206aedb-6323-477a-9f10-bc8d4407bf40",
   "metadata": {
    "tags": []
   },
   "outputs": [],
   "source": [
    "import os.path\n",
    "import sys \n",
    "from PyQt5.QtCore import QSettings, QTranslator, qVersion, QCoreApplication, QFileInfo, QFile\n",
    "from PyQt5.QtGui import QIcon\n",
    "from PyQt5.QtWidgets import QAction, QFileDialog, QTableWidgetItem, QApplication, QTableWidget\n",
    "from qgis.core import QgsProject, QgsVectorFileWriter,QgsCoordinateReferenceSystem, QgsVectorLayer\n",
    "#from qgis.core import QgsCoordinateReferenceSystem as Hoh"
   ]
  },
  {
   "cell_type": "markdown",
   "id": "e00516df-08ff-4142-bae2-60de50916422",
   "metadata": {},
   "source": [
    "## Importar bibliotecas para dados espaciais\n",
    "### Instalação Geopandas\n",
    "Mais informações em: https://geopandas.org/en/stable/docs/reference/api/geopandas.GeoDataFrame.html\n",
    "\n",
    "### Instalação PyQGIS\n",
    "https://anaconda.org/conda-forge/qgis"
   ]
  },
  {
   "cell_type": "markdown",
   "id": "ee812ecf-8afe-48bb-b5e7-6696e74568c2",
   "metadata": {},
   "source": [
    "#### Importar bibliotecas Geopandas"
   ]
  },
  {
   "cell_type": "code",
   "execution_count": 2,
   "id": "f84aaa9c-04c0-4a88-a8f9-f1d8d23beb93",
   "metadata": {},
   "outputs": [],
   "source": [
    "import pandas as pd\n",
    "import os\n",
    "import fiona # Leitura e escrita de dados espaciais\n",
    "import geopandas as gpds # Leitura e escrita de dados espaciais\n",
    "import matplotlib\n",
    "%matplotlib inline "
   ]
  },
  {
   "cell_type": "markdown",
   "id": "3a473878-b370-46e7-b283-ede449041fa2",
   "metadata": {},
   "source": [
    "#### Importar bibliotecas do PyQGIS"
   ]
  },
  {
   "cell_type": "code",
   "execution_count": 3,
   "id": "92670230-e147-41b8-bbd1-4543c2a8ecb3",
   "metadata": {},
   "outputs": [],
   "source": [
    "import sys\n",
    "import os\n",
    "#import os.path\n",
    "from osgeo import ogr\n",
    "import qgis\n",
    "import qgis.core\n",
    "from qgis.core import *\n",
    "#from qgis.utils import *\n",
    "from osgeo import ogr"
   ]
  },
  {
   "cell_type": "markdown",
   "id": "a02b196a-a199-43ca-af3b-53f784302014",
   "metadata": {
    "tags": []
   },
   "source": [
    "#### Importar bibliotecas da inteface PyQt5"
   ]
  },
  {
   "cell_type": "code",
   "execution_count": 4,
   "id": "af94659f-94d9-45e0-9cef-7de67c3e6858",
   "metadata": {
    "tags": []
   },
   "outputs": [],
   "source": [
    "from PyQt5 import QtWidgets\n",
    "from PyQt5.QtWidgets import QAction, QFileDialog, QMessageBox, QMainWindow, QApplication\n",
    "from qgis.PyQt.QtCore import *"
   ]
  },
  {
   "cell_type": "markdown",
   "id": "1ca506df-6466-419e-9628-17d981ab6fe5",
   "metadata": {
    "tags": []
   },
   "source": [
    "#### Importar scripts (main) da consistência de formato\n",
    "###### O script principal contempla as seguintes funções (def): "
   ]
  },
  {
   "cell_type": "markdown",
   "id": "580765e8-3dd8-4495-b020-e0ba5e18e146",
   "metadata": {
    "tags": []
   },
   "source": [
    "###### No Jupyter usar sys.path.append para importar o \"main\" do diretório do plugin"
   ]
  },
  {
   "cell_type": "code",
   "execution_count": 5,
   "id": "57bda0f7-d41c-41c9-bfe7-2a1e10486527",
   "metadata": {
    "tags": []
   },
   "outputs": [],
   "source": [
    "sys.path.append(os.path.abspath(r\"C:/Users/Admin/AppData/Roaming/QGIS/QGIS3/profiles/default/python/plugins/FormatConsistency/\"))"
   ]
  },
  {
   "cell_type": "code",
   "execution_count": 6,
   "id": "b5fe7571-9941-405f-b0aa-ddbc4ed10b7c",
   "metadata": {
    "tags": []
   },
   "outputs": [],
   "source": [
    "# Initialize Qt resources from file resources.py\n",
    "# desabilitado # from .resources import *\n",
    "# Import the code for the dialog\n",
    "# desabilitado # from .FormatConsistency_dialog import FormatConsistencyDialog"
   ]
  },
  {
   "cell_type": "code",
   "execution_count": 7,
   "id": "1369f5d0-22f1-425b-b963-18201ef17178",
   "metadata": {
    "tags": []
   },
   "outputs": [],
   "source": [
    "from resources import * # removido \"ponto\" após uso do sys.path.append"
   ]
  },
  {
   "cell_type": "code",
   "execution_count": 8,
   "id": "044aec95-c0d4-448e-9462-9264e8e284ce",
   "metadata": {},
   "outputs": [],
   "source": [
    "from FormatConsistency_dialog import FormatConsistencyDialog # removido \"ponto\" após uso do sys.path.append"
   ]
  },
  {
   "cell_type": "markdown",
   "id": "94b81431-9f8c-47b4-a4c9-ac5bf62839f6",
   "metadata": {},
   "source": [
    "## ------------ MAIN ----------------------"
   ]
  },
  {
   "cell_type": "markdown",
   "id": "5b8a0782-15fd-4ca5-a7ec-444a18d669cb",
   "metadata": {},
   "source": [
    "##### Main Format Consistency\n",
    "- classe LayerInfo: name, crs, encoding, formato, isValid\n",
    "- funções (def): cria lista, cria lista layers, mostra tabela (QGIS).\n",
    "    - pendente: exportar para CSV\n",
    "    - pendente: mostrar/ocultar camadas com feições (count > 0)\n",
    "###### Nota: \n",
    "criar método função classe LayerInfo, para chegar atributos nulos e domínios preenchidos. "
   ]
  },
  {
   "cell_type": "code",
   "execution_count": 9,
   "id": "c41864a0-5456-4ebe-b4ff-b0f229dfc3af",
   "metadata": {},
   "outputs": [],
   "source": [
    "from main_format_consistency import *"
   ]
  },
  {
   "cell_type": "markdown",
   "id": "fbe76a92-6a15-44e4-9d05-f2679de36a25",
   "metadata": {},
   "source": [
    "###### Nota:\n",
    "Não é necessário importar a classe FormatConsistencyDialog em main_format_consistency (redundate). Ela deve ser chamada apenas no script principal do plugin em FormatConsistency.py. "
   ]
  },
  {
   "cell_type": "markdown",
   "id": "250b6c26-fe2b-4a74-b26a-29fa5dcf3014",
   "metadata": {},
   "source": [
    "## ----------------------------------"
   ]
  },
  {
   "cell_type": "markdown",
   "id": "dfbeb4b1-aa4b-430c-bee2-5d90abd3ca27",
   "metadata": {
    "tags": []
   },
   "source": [
    "### Nota: Visual Studio e Github \n",
    "- Editar o script \"main\" no Visual Studio.\n",
    "- Editar o script FormatConsistency.py no Visual Studio\n",
    "- Sincronizar a pasta com o Github (alxcart) e os branches. "
   ]
  },
  {
   "cell_type": "markdown",
   "id": "50cb296d-c3b1-402a-a73e-71535fe5f51d",
   "metadata": {},
   "source": [
    "### Escopo\n",
    "- Saída em XLS (classes com e sem registro no banco)\n",
    "- Mostrar apenas classes com registro\n",
    "- Exportar classes sem registros\n",
    "- Exportar classes com registro\n",
    "\n",
    "#### Fora do escopo\n",
    "- Consistência de Domínio\n",
    "- Consistência Conceitual"
   ]
  },
  {
   "cell_type": "markdown",
   "id": "9c734901-022a-4fe4-89f6-a3a09387c119",
   "metadata": {},
   "source": [
    "### Constantes do plugin\n",
    "##### Tabela 1 - Plugin sem constantes\n",
    "- criar um arquivo *.py relativo a classe LayerInfo"
   ]
  },
  {
   "cell_type": "markdown",
   "id": "9934f8c0-a1b8-49fb-91fe-6e0f7cfafea2",
   "metadata": {},
   "source": [
    "# --------------Entrada de Dados -------------------"
   ]
  },
  {
   "cell_type": "markdown",
   "id": "b3f336b3-4166-4c83-ac88-1f6bcb868d20",
   "metadata": {},
   "source": [
    "### Diretório de Trabalho\n",
    "##### Selecionar camada(s) do conjunto de dados\n",
    "\n",
    "###### - Definir diretório do conjunto de dados (pasta)\n",
    "\n",
    "###### - Definir a base de dados (pasta)\n",
    "\n",
    "###### - Definir a(s) camadas (shp, geopackage, entre outros)\n",
    "\n",
    "###### Nota:\n",
    "###### Carregar o formato desejado. Por exemplo: dados = 'bc250_vicosa_2019.gpkg'"
   ]
  },
  {
   "cell_type": "markdown",
   "id": "db775423-7ef7-4834-9531-3ac29fbd541f",
   "metadata": {},
   "source": [
    "##### Base de dados"
   ]
  },
  {
   "cell_type": "code",
   "execution_count": 10,
   "id": "4a849766-cf98-41ef-9078-e04dc1a91c92",
   "metadata": {
    "jupyter": {
     "source_hidden": true
    },
    "tags": []
   },
   "outputs": [
    {
     "data": {
      "text/plain": [
       "\"\\ndef path_work():\\n    diretorio = 'D:/Dados/'\\n    base_de_dados = 'bc100_go_df_shp/' # 'bc250/bc250_2019-10-29.gpkg'\\n    path_project = diretorio + base_de_dados # + dados\\n    return path_project\\n\""
      ]
     },
     "execution_count": 10,
     "metadata": {},
     "output_type": "execute_result"
    }
   ],
   "source": [
    "'''\n",
    "def path_work():\n",
    "    diretorio = 'D:/Dados/'\n",
    "    base_de_dados = 'bc100_go_df_shp/' # 'bc250/bc250_2019-10-29.gpkg'\n",
    "    path_project = diretorio + base_de_dados # + dados\n",
    "    return path_project\n",
    "'''"
   ]
  },
  {
   "cell_type": "markdown",
   "id": "f792e117-08fc-4cf4-8f2c-125ecc1f268f",
   "metadata": {
    "tags": []
   },
   "source": [
    "##### Listar as camadas do conjunto de dados (Fiona)\n",
    "###### No need to pass \"layer='etc'\" if there's only one layer"
   ]
  },
  {
   "cell_type": "code",
   "execution_count": 11,
   "id": "63973cd4-1ca9-4070-930b-adf992e5abc6",
   "metadata": {},
   "outputs": [],
   "source": [
    "path_project = path_work()"
   ]
  },
  {
   "cell_type": "code",
   "execution_count": 12,
   "id": "c57b54e9-da5a-40b3-a213-4cdf784e0d94",
   "metadata": {},
   "outputs": [],
   "source": [
    "lista_layers = fiona.listlayers(path_project)"
   ]
  },
  {
   "cell_type": "code",
   "execution_count": 13,
   "id": "41ea9dc5-603b-4037-88f3-e415da88c1df",
   "metadata": {
    "jupyter": {
     "source_hidden": true
    },
    "tags": []
   },
   "outputs": [
    {
     "name": "stdout",
     "output_type": "stream",
     "text": [
      "0 ASB_Cemiterio_A\n",
      "1 ASB_Cemiterio_P\n",
      "2 ECO_Edif_Agropec_Ext_Vegetal_Pesca_P\n",
      "3 EDU_Edif_Ensino_P\n",
      "4 ENC_Grupo_Transformadores_A\n",
      "5 ENC_Grupo_Transformadores_P\n",
      "6 ENC_Hidreletrica_P\n",
      "7 ENC_Trecho_Energia_L\n",
      "8 HID_Banco_Areia_A\n",
      "9 HID_Barragem_A\n",
      "10 HID_Barragem_L\n",
      "11 HID_Corredeira_A\n",
      "12 HID_Corredeira_L\n",
      "13 HID_Corredeira_P\n",
      "14 HID_Ilha_A\n",
      "15 HID_Ilha_L\n",
      "16 HID_Ilha_P\n",
      "17 HID_Massa_Dagua_A\n",
      "18 HID_Queda_Dagua_L\n",
      "19 HID_Queda_Dagua_P\n",
      "20 HID_Sumidouro_Vertedouro_P\n",
      "21 HID_Trecho_Drenagem_L\n",
      "22 HID_Trecho_Massa_Dagua_A\n",
      "23 LIM_Unidade_Federacao_A\n",
      "24 LOC_Aglomerado_Rural_Isolado_P\n",
      "25 LOC_Capital_P\n",
      "26 LOC_Cidade_P\n",
      "27 LOC_Vila_P\n",
      "28 TRA_Arruamento_L\n",
      "29 TRA_Passag_Elevada_Viaduto_L\n",
      "30 TRA_Passag_Elevada_Viaduto_P\n",
      "31 TRA_Pista_Ponto_Pouso_L\n",
      "32 TRA_Pista_Ponto_Pouso_P\n",
      "33 TRA_Ponte_L\n",
      "34 TRA_Ponte_P\n",
      "35 TRA_Travessia_L\n",
      "36 TRA_Trecho_Ferroviario_L\n",
      "37 TRA_Trecho_Rodoviario_L\n",
      "38 TRA_Tunel_L\n"
     ]
    }
   ],
   "source": [
    "c = -1\n",
    "for i in lista_layers:\n",
    "    c = c + 1\n",
    "    print(c, i)  "
   ]
  },
  {
   "cell_type": "code",
   "execution_count": 14,
   "id": "963e929f-9d3f-4b31-a0a5-8fd1d9a4a73c",
   "metadata": {
    "tags": []
   },
   "outputs": [
    {
     "data": {
      "text/plain": [
       "list"
      ]
     },
     "execution_count": 14,
     "metadata": {},
     "output_type": "execute_result"
    }
   ],
   "source": [
    "type(lista_layers)"
   ]
  },
  {
   "cell_type": "markdown",
   "id": "b7fcbe4a-3dc4-4956-8a59-f866b88517c3",
   "metadata": {},
   "source": [
    "##### Diretório"
   ]
  },
  {
   "cell_type": "code",
   "execution_count": 15,
   "id": "bb6112b0-dd69-474a-9b31-90c212009298",
   "metadata": {},
   "outputs": [
    {
     "data": {
      "text/plain": [
       "'D:/Dados/bc100_go_df_shp/'"
      ]
     },
     "execution_count": 15,
     "metadata": {},
     "output_type": "execute_result"
    }
   ],
   "source": [
    "directory = path_project\n",
    "directory"
   ]
  },
  {
   "cell_type": "markdown",
   "id": "c3a35631-a405-46fc-8866-f79b48dc49c4",
   "metadata": {},
   "source": [
    "##### Selecionar camada a partir do \"id\""
   ]
  },
  {
   "cell_type": "code",
   "execution_count": 16,
   "id": "8a91c994-b484-4d87-be22-b8abebc7e310",
   "metadata": {
    "tags": []
   },
   "outputs": [
    {
     "name": "stdout",
     "output_type": "stream",
     "text": [
      "ASB_Cemiterio_P\n"
     ]
    }
   ],
   "source": [
    "id = 1\n",
    "ly_name = lista_layers[id]\n",
    "print(ly_name)"
   ]
  },
  {
   "cell_type": "markdown",
   "id": "784e87cc-4a64-44e5-bc29-00f315a9657d",
   "metadata": {},
   "source": [
    "##### Transformando em QgsVectorLayer\n",
    "A partir de um item da lista (lista_layers) transformar em QgsVectorLayer"
   ]
  },
  {
   "cell_type": "code",
   "execution_count": 17,
   "id": "91cacda1-b816-4c0f-82bf-af428872bb5f",
   "metadata": {
    "tags": []
   },
   "outputs": [
    {
     "data": {
      "text/plain": [
       "True"
      ]
     },
     "execution_count": 17,
     "metadata": {},
     "output_type": "execute_result"
    }
   ],
   "source": [
    "layer = QgsVectorLayer(path_project + ly_name  + \".shp\", ly_name, \"ogr\")\n",
    "selection = layer\n",
    "layer.isValid()"
   ]
  },
  {
   "cell_type": "code",
   "execution_count": 18,
   "id": "fad6e609-a031-478c-b402-43d7a4b55955",
   "metadata": {},
   "outputs": [
    {
     "data": {
      "text/plain": [
       "qgis._core.QgsVectorLayer"
      ]
     },
     "execution_count": 18,
     "metadata": {},
     "output_type": "execute_result"
    }
   ],
   "source": [
    "type(layer)"
   ]
  },
  {
   "cell_type": "markdown",
   "id": "a3ca178f-b25b-4d24-9ec5-361672723c8f",
   "metadata": {},
   "source": [
    "##### Layer selection"
   ]
  },
  {
   "cell_type": "code",
   "execution_count": 19,
   "id": "748f3766-0aee-4367-9702-4f2791523c2f",
   "metadata": {
    "tags": []
   },
   "outputs": [
    {
     "data": {
      "text/plain": [
       "'ASB_Cemiterio_P'"
      ]
     },
     "execution_count": 19,
     "metadata": {},
     "output_type": "execute_result"
    }
   ],
   "source": [
    "selection = layer\n",
    "selection.name()"
   ]
  },
  {
   "cell_type": "markdown",
   "id": "a097c178-b328-42ee-a6c0-c9c05c5f2e1b",
   "metadata": {},
   "source": [
    "##### Data provider from selection \n",
    "###### camada/layer = selection"
   ]
  },
  {
   "cell_type": "code",
   "execution_count": 20,
   "id": "b76c6463-6254-4fd4-a60d-4cea586a1a36",
   "metadata": {},
   "outputs": [],
   "source": [
    "dp = selection.dataProvider()\n",
    "provider = dp \n",
    "geometry = selection.wkbType()\n",
    "crs = provider.crs()\n",
    "encoding = dp.encoding()\n",
    "source_layer = selection.dataProvider().dataSourceUri()"
   ]
  },
  {
   "cell_type": "code",
   "execution_count": 21,
   "id": "b4581097-a29f-4e0b-871c-fba15d4e1517",
   "metadata": {},
   "outputs": [
    {
     "data": {
      "text/plain": [
       "'D:/Dados/bc100_go_df_shp/ASB_Cemiterio_P.shp'"
      ]
     },
     "execution_count": 21,
     "metadata": {},
     "output_type": "execute_result"
    }
   ],
   "source": [
    "source_layer"
   ]
  },
  {
   "cell_type": "markdown",
   "id": "17bf8f08-64b4-4f12-a102-46d3155ac16b",
   "metadata": {},
   "source": [
    "# ------------------------------------------"
   ]
  },
  {
   "cell_type": "markdown",
   "id": "c5a7fba9-df40-4bb9-be52-948b63de6018",
   "metadata": {},
   "source": [
    "### Funções Consistência de Formato / Consistency Format\n",
    "###### Nota: \n",
    "- def cria_lista: função para criar uma lista com QgsVectorLayers\n",
    "- def list_layers: função para criar lista de layers com a síntese de suas características (nome, formato, geometria, crs, encoding, validade), conforme a classe LayerInfo. \n",
    "\n",
    "- Função lista_layers (com LayerInfo) não funcionando. \n",
    "    - Rever criação da classe LayerInfo. \n",
    "    - Converter lista para dicionário ou dataframe. \n",
    "    - Usar classe - orientação a objeto (ver vídeo: https://youtu.be/RLVbB91A5-8?t=1937)"
   ]
  },
  {
   "cell_type": "markdown",
   "id": "08f8e311-cade-4e04-b2e8-4f61b6151f48",
   "metadata": {},
   "source": [
    "### Teste vetor"
   ]
  },
  {
   "cell_type": "code",
   "execution_count": 20,
   "id": "40c67595-7bc1-4fad-b4b4-7fdb6b2ccc8e",
   "metadata": {
    "collapsed": true,
    "jupyter": {
     "outputs_hidden": true,
     "source_hidden": true
    },
    "tags": []
   },
   "outputs": [
    {
     "data": {
      "text/plain": [
       "'\\ndef geometry_vector():\\n    format_type = \"NA\" \\n    geometry_type = \"NA\"    \\n    if layer_sample.wkbType() == 1001 or layer_sample.wkbType() == 1:#QgsWkbTypes.Point:\\n        format_type = \"vector\" \\n        geometry_type = \"point\"\\n    if layer_sample.wkbType() == 1005 or layer_sample.wkbType() == 5:#QgsWkbTypes.LineString:\\n        format_type = \"vector\" \\n        geometry_type = \"line\"\\n    if layer_sample.wkbType() == 1006 or layer_sample.wkbType() == 6:#QgsWkbTypes.Polygon: \\n        format_type = \"vector\" \\n        geometry_type = \"polygon\" \\n'"
      ]
     },
     "execution_count": 20,
     "metadata": {},
     "output_type": "execute_result"
    }
   ],
   "source": [
    "'''\n",
    "def geometry_vector():\n",
    "    format_type = \"NA\" \n",
    "    geometry_type = \"NA\"    \n",
    "    if layer_sample.wkbType() == 1001 or layer_sample.wkbType() == 1:#QgsWkbTypes.Point:\n",
    "        format_type = \"vector\" \n",
    "        geometry_type = \"point\"\n",
    "    if layer_sample.wkbType() == 1005 or layer_sample.wkbType() == 5:#QgsWkbTypes.LineString:\n",
    "        format_type = \"vector\" \n",
    "        geometry_type = \"line\"\n",
    "    if layer_sample.wkbType() == 1006 or layer_sample.wkbType() == 6:#QgsWkbTypes.Polygon: \n",
    "        format_type = \"vector\" \n",
    "        geometry_type = \"polygon\" \n",
    "'''"
   ]
  },
  {
   "cell_type": "markdown",
   "id": "56feef7d-9850-4e8f-8873-61b0380da88c",
   "metadata": {
    "jupyter": {
     "source_hidden": true
    },
    "tags": []
   },
   "source": [
    "#### Função \"cria lista\" \n",
    "###### Nota:\n",
    "Uso apenas no Jupyter Lab\n",
    "###### (DEF) Função para criar uma lista de QgsVectorLayer(s)\n",
    "###### A função (def) foi comentada para teste do script \"main_format_consistency.py\""
   ]
  },
  {
   "cell_type": "code",
   "execution_count": 23,
   "id": "7e45776f-6783-48a2-9ae4-b6553663efe4",
   "metadata": {
    "collapsed": true,
    "jupyter": {
     "outputs_hidden": true,
     "source_hidden": true
    },
    "tags": []
   },
   "outputs": [
    {
     "data": {
      "text/plain": [
       "'\\ndef cria_lista(lista_layers_txt):\\n    lista = list(range(len(lista_layers_txt)))\\n    for id, i in enumerate(lista_layers_txt):\\n        camada = QgsVectorLayer(path_project + i  + \".shp\",  i, \"ogr\")\\n        lista[id] = camada\\n    return lista\\n'"
      ]
     },
     "execution_count": 23,
     "metadata": {},
     "output_type": "execute_result"
    }
   ],
   "source": [
    "'''\n",
    "def cria_lista(lista_layers_txt):\n",
    "    lista = list(range(len(lista_layers_txt)))\n",
    "    for id, i in enumerate(lista_layers_txt):\n",
    "        camada = QgsVectorLayer(path_project + i  + \".shp\",  i, \"ogr\")\n",
    "        lista[id] = camada\n",
    "    return lista\n",
    "'''"
   ]
  },
  {
   "cell_type": "markdown",
   "id": "b93baab3-009a-4228-9ddd-ed1d5ef9e80e",
   "metadata": {},
   "source": [
    "###### (TESTE) Função Cria Lista QgsVectorLayers\n",
    "###### Nota (06/03/2022): na implementação em QGIS foi acrescentado o argumento \"diretório\" a função (def) cria_lista (original em Jupyter Lab)"
   ]
  },
  {
   "cell_type": "code",
   "execution_count": 22,
   "id": "07f85344-6298-4241-9033-8c6e3d3f942f",
   "metadata": {
    "tags": []
   },
   "outputs": [],
   "source": [
    "layers = cria_lista(lista_layers)"
   ]
  },
  {
   "cell_type": "code",
   "execution_count": 23,
   "id": "755e99f0-1c41-4fcd-9270-67e93818fab9",
   "metadata": {},
   "outputs": [
    {
     "data": {
      "text/plain": [
       "list"
      ]
     },
     "execution_count": 23,
     "metadata": {},
     "output_type": "execute_result"
    }
   ],
   "source": [
    "type(layers)"
   ]
  },
  {
   "cell_type": "markdown",
   "id": "e1d8c083-b177-4eeb-a84f-86696afa9bb7",
   "metadata": {},
   "source": [
    "##### Layer selection"
   ]
  },
  {
   "cell_type": "code",
   "execution_count": 24,
   "id": "826415e7-0ffe-4488-b8a4-5e45fdcf955c",
   "metadata": {
    "tags": []
   },
   "outputs": [
    {
     "name": "stdout",
     "output_type": "stream",
     "text": [
      "ASB_Cemiterio_P, 245\n"
     ]
    }
   ],
   "source": [
    "id = 1\n",
    "selection = layers[id]\n",
    "print(str(selection.name()) + \", \" + str(selection.featureCount()))"
   ]
  },
  {
   "cell_type": "markdown",
   "id": "2f7c022c-1f6b-4335-bef3-0bded171dee7",
   "metadata": {},
   "source": [
    "##### Data provider from selection \n",
    "###### camada/layer = selection"
   ]
  },
  {
   "cell_type": "code",
   "execution_count": 25,
   "id": "8ada10e6-b943-483a-9c93-341f8a300c96",
   "metadata": {},
   "outputs": [],
   "source": [
    "dp = selection.dataProvider()\n",
    "provider = dp \n",
    "geometry = selection.wkbType()\n",
    "crs = provider.crs()\n",
    "encoding = dp.encoding()\n",
    "source_layer = selection.dataProvider().dataSourceUri()"
   ]
  },
  {
   "cell_type": "code",
   "execution_count": 26,
   "id": "5f977220-a00b-4c72-9831-f85be005d7f3",
   "metadata": {},
   "outputs": [
    {
     "data": {
      "text/plain": [
       "<QgsVectorLayer: 'ASB_Cemiterio_P' (ogr)>"
      ]
     },
     "execution_count": 26,
     "metadata": {},
     "output_type": "execute_result"
    }
   ],
   "source": [
    "selection"
   ]
  },
  {
   "cell_type": "code",
   "execution_count": 27,
   "id": "5f52382a-49ee-4546-910a-68eee4666008",
   "metadata": {},
   "outputs": [
    {
     "data": {
      "text/plain": [
       "<QgsMapLayerType.VectorLayer: 0>"
      ]
     },
     "execution_count": 27,
     "metadata": {},
     "output_type": "execute_result"
    }
   ],
   "source": [
    "selection.type()"
   ]
  },
  {
   "cell_type": "code",
   "execution_count": 28,
   "id": "3c994eb0-f1e3-437a-b6ab-fb0c970f4ef0",
   "metadata": {},
   "outputs": [
    {
     "data": {
      "text/plain": [
       "True"
      ]
     },
     "execution_count": 28,
     "metadata": {},
     "output_type": "execute_result"
    }
   ],
   "source": [
    "selection.type()==QgsMapLayerType.VectorLayer"
   ]
  },
  {
   "cell_type": "code",
   "execution_count": 29,
   "id": "765e4c18-fc01-4e72-9688-b04f3c151335",
   "metadata": {},
   "outputs": [
    {
     "data": {
      "text/plain": [
       "('ASB_Cemiterio_P',\n",
       " <qgis._core.QgsVectorDataProvider at 0x2e571028ee0>,\n",
       " 1001,\n",
       " <QgsCoordinateReferenceSystem: EPSG:4674>,\n",
       " 'ISO-8859-1',\n",
       " 'D:/Dados/bc100_go_df_shp/ASB_Cemiterio_P.shp')"
      ]
     },
     "execution_count": 29,
     "metadata": {},
     "output_type": "execute_result"
    }
   ],
   "source": [
    "selection.name(), dp, geometry, crs, encoding, source_layer"
   ]
  },
  {
   "cell_type": "markdown",
   "id": "d937652b-764e-49e5-8309-fafd16802b98",
   "metadata": {},
   "source": [
    "##### (CLASSE) Função criar classe LayerInfo\n",
    "###### A classe (class) foi comentada para teste do script \"main_format_consistency.py\""
   ]
  },
  {
   "cell_type": "code",
   "execution_count": 67,
   "id": "c58e8603-7384-4590-b437-0f9130075b85",
   "metadata": {
    "jupyter": {
     "source_hidden": true
    },
    "tags": []
   },
   "outputs": [
    {
     "data": {
      "text/plain": [
       "\"\\nfrom datetime import datetime\\n#def classe_camadas():\\nclass LayerInfo: # Não está funcionando para esta lista / \\n    ano_atual = int(datetime.strftime(datetime.now(), '%Y'))\\n    def __init__(self, layer):\\n        self.name = layer.name()\\n        self.crs = layer.crs().description()\\n        try:\\n            self.encoding = layer.dataProvider().encoding()\\n            self.count = int(layer.featureCount())\\n            self.formato = layer.storageType()\\n        except AttributeError:\\n            pass\\n        self.isValid = layer.isValid()\\n    def adicionaName(self, object):\\n        self.name.append(self.object)\\n    def adicionaCRS(self, object):\\n        self.crs.append(self.object)\\n    def adicionaCount(self, object):\\n        self.count.append(self.object)\\n    def adicionaFormato(self, object):\\n        self.formato.append(self.object)\\n    def adicionaIs_Valid(self, object):\\n        self.is_Valid.append(self.object)\\n\""
      ]
     },
     "execution_count": 67,
     "metadata": {},
     "output_type": "execute_result"
    }
   ],
   "source": [
    "'''\n",
    "from datetime import datetime\n",
    "#def classe_camadas():\n",
    "class LayerInfo: # Não está funcionando para esta lista / \n",
    "    ano_atual = int(datetime.strftime(datetime.now(), '%Y'))\n",
    "    def __init__(self, layer):\n",
    "        self.name = layer.name()\n",
    "        self.crs = layer.crs().description()\n",
    "        try:\n",
    "            self.encoding = layer.dataProvider().encoding()\n",
    "            self.count = int(layer.featureCount())\n",
    "            self.formato = layer.storageType()\n",
    "        except AttributeError:\n",
    "            pass\n",
    "        self.isValid = layer.isValid()\n",
    "    def adicionaName(self, object):\n",
    "        self.name.append(self.object)\n",
    "    def adicionaCRS(self, object):\n",
    "        self.crs.append(self.object)\n",
    "    def adicionaCount(self, object):\n",
    "        self.count.append(self.object)\n",
    "    def adicionaFormato(self, object):\n",
    "        self.formato.append(self.object)\n",
    "    def adicionaIs_Valid(self, object):\n",
    "        self.is_Valid.append(self.object)\n",
    "'''"
   ]
  },
  {
   "cell_type": "markdown",
   "id": "4e9e33fd-133f-46c4-9a13-779d63b1a9ce",
   "metadata": {},
   "source": [
    "##### (TESTE) Classe LayerInfo"
   ]
  },
  {
   "cell_type": "code",
   "execution_count": 30,
   "id": "ded9acc2-ecab-42e6-bba3-174c27569305",
   "metadata": {},
   "outputs": [
    {
     "data": {
      "text/plain": [
       "'ASB_Cemiterio_P'"
      ]
     },
     "execution_count": 30,
     "metadata": {},
     "output_type": "execute_result"
    }
   ],
   "source": [
    "selection.name()"
   ]
  },
  {
   "cell_type": "code",
   "execution_count": 31,
   "id": "b56163fe-6bb9-4d37-9b1e-902cfb559035",
   "metadata": {},
   "outputs": [],
   "source": [
    "layer = selection"
   ]
  },
  {
   "cell_type": "code",
   "execution_count": 81,
   "id": "90b0987b-aff5-4a7f-bcf6-ef6a148c5705",
   "metadata": {},
   "outputs": [
    {
     "ename": "TypeError",
     "evalue": "'QgsVectorLayer' object is not subscriptable",
     "output_type": "error",
     "traceback": [
      "\u001b[1;31m---------------------------------------------------------------------------\u001b[0m",
      "\u001b[1;31mTypeError\u001b[0m                                 Traceback (most recent call last)",
      "\u001b[1;32m~\\AppData\\Local\\Temp/ipykernel_1840/2920039953.py\u001b[0m in \u001b[0;36m<module>\u001b[1;34m\u001b[0m\n\u001b[1;32m----> 1\u001b[1;33m \u001b[0mlayer\u001b[0m\u001b[1;33m[\u001b[0m\u001b[1;34m'NOME'\u001b[0m\u001b[1;33m]\u001b[0m\u001b[1;33m==\u001b[0m\u001b[0mNULL\u001b[0m\u001b[1;33m\u001b[0m\u001b[1;33m\u001b[0m\u001b[0m\n\u001b[0m",
      "\u001b[1;31mTypeError\u001b[0m: 'QgsVectorLayer' object is not subscriptable"
     ]
    }
   ],
   "source": [
    "layer['NOME']==NULL"
   ]
  },
  {
   "cell_type": "code",
   "execution_count": 33,
   "id": "91f85b99-ceec-418d-a284-df9ce0113a22",
   "metadata": {},
   "outputs": [
    {
     "data": {
      "text/plain": [
       "int"
      ]
     },
     "execution_count": 33,
     "metadata": {},
     "output_type": "execute_result"
    }
   ],
   "source": [
    "type(layer.featureCount())"
   ]
  },
  {
   "cell_type": "code",
   "execution_count": 34,
   "id": "592f0532-f256-44e9-b9a7-045c86f8aca2",
   "metadata": {},
   "outputs": [
    {
     "data": {
      "text/plain": [
       "<QgsVectorLayer: 'ASB_Cemiterio_P' (ogr)>"
      ]
     },
     "execution_count": 34,
     "metadata": {},
     "output_type": "execute_result"
    }
   ],
   "source": [
    "layer"
   ]
  },
  {
   "cell_type": "code",
   "execution_count": 35,
   "id": "4da0cb01-3d04-4a18-88eb-f8b26becb0b8",
   "metadata": {},
   "outputs": [
    {
     "data": {
      "text/plain": [
       "'D:/Dados/bc100_go_df_shp/ASB_Cemiterio_P.shp'"
      ]
     },
     "execution_count": 35,
     "metadata": {},
     "output_type": "execute_result"
    }
   ],
   "source": [
    "layer.dataProvider().dataSourceUri()"
   ]
  },
  {
   "cell_type": "code",
   "execution_count": 36,
   "id": "5ed5bb54-19cb-43b4-afd7-e966a316e423",
   "metadata": {},
   "outputs": [],
   "source": [
    "camadas = LayerInfo(layer)"
   ]
  },
  {
   "cell_type": "code",
   "execution_count": 37,
   "id": "dc523fb8-fd7a-4dcc-9f60-fbde3e8e3667",
   "metadata": {},
   "outputs": [
    {
     "data": {
      "text/plain": [
       "'ASB_Cemiterio_P'"
      ]
     },
     "execution_count": 37,
     "metadata": {},
     "output_type": "execute_result"
    }
   ],
   "source": [
    "camadas.name"
   ]
  },
  {
   "cell_type": "code",
   "execution_count": 38,
   "id": "2a52aa21-9e7b-4cb5-97bc-cf8e3542a857",
   "metadata": {},
   "outputs": [
    {
     "data": {
      "text/plain": [
       "245"
      ]
     },
     "execution_count": 38,
     "metadata": {},
     "output_type": "execute_result"
    }
   ],
   "source": [
    "camadas.count"
   ]
  },
  {
   "cell_type": "markdown",
   "id": "edba1389-45c3-4227-bc11-ce005e246506",
   "metadata": {},
   "source": []
  },
  {
   "cell_type": "code",
   "execution_count": 39,
   "id": "db920c3f-c20b-4960-8c5d-f3a42868db79",
   "metadata": {},
   "outputs": [
    {
     "data": {
      "text/plain": [
       "main_format_consistency.LayerInfo"
      ]
     },
     "execution_count": 39,
     "metadata": {},
     "output_type": "execute_result"
    }
   ],
   "source": [
    "type(camadas)"
   ]
  },
  {
   "cell_type": "code",
   "execution_count": 40,
   "id": "189d1ae7-ff01-4f1b-8a82-7a7e85a6457a",
   "metadata": {},
   "outputs": [
    {
     "data": {
      "text/plain": [
       "'SIRGAS 2000'"
      ]
     },
     "execution_count": 40,
     "metadata": {},
     "output_type": "execute_result"
    }
   ],
   "source": [
    "camadas.crs"
   ]
  },
  {
   "cell_type": "code",
   "execution_count": 41,
   "id": "4cfeaba6-f6f2-46cc-b716-d6c731d07e78",
   "metadata": {},
   "outputs": [
    {
     "data": {
      "text/plain": [
       "'ASB_Cemiterio_P'"
      ]
     },
     "execution_count": 41,
     "metadata": {},
     "output_type": "execute_result"
    }
   ],
   "source": [
    "camadas.name"
   ]
  },
  {
   "cell_type": "code",
   "execution_count": 42,
   "id": "55f15a53-a6b5-4096-9151-2604fd68c0ac",
   "metadata": {},
   "outputs": [
    {
     "data": {
      "text/plain": [
       "'ISO-8859-1'"
      ]
     },
     "execution_count": 42,
     "metadata": {},
     "output_type": "execute_result"
    }
   ],
   "source": [
    "camadas.encoding"
   ]
  },
  {
   "cell_type": "code",
   "execution_count": 43,
   "id": "ed742ce9-5c5a-4889-9b79-fffdc8b130be",
   "metadata": {},
   "outputs": [
    {
     "data": {
      "text/plain": [
       "'ESRI Shapefile'"
      ]
     },
     "execution_count": 43,
     "metadata": {},
     "output_type": "execute_result"
    }
   ],
   "source": [
    "camadas.formato"
   ]
  },
  {
   "cell_type": "code",
   "execution_count": 44,
   "id": "52fde996-025a-4cfc-92b9-7c25f9d8022f",
   "metadata": {},
   "outputs": [
    {
     "data": {
      "text/plain": [
       "245"
      ]
     },
     "execution_count": 44,
     "metadata": {},
     "output_type": "execute_result"
    }
   ],
   "source": [
    "camadas.count"
   ]
  },
  {
   "cell_type": "code",
   "execution_count": 45,
   "id": "c60d68b5-cb91-4e69-a104-e8db36c1e1fb",
   "metadata": {},
   "outputs": [
    {
     "data": {
      "text/plain": [
       "int"
      ]
     },
     "execution_count": 45,
     "metadata": {},
     "output_type": "execute_result"
    }
   ],
   "source": [
    "type(camadas.count)"
   ]
  },
  {
   "cell_type": "code",
   "execution_count": 46,
   "id": "7e26d21f-c0a3-4043-b91a-a20dfa479e4c",
   "metadata": {},
   "outputs": [],
   "source": [
    "#camadas.dataProvider().dataSourceUri()"
   ]
  },
  {
   "cell_type": "markdown",
   "id": "fe5426fc-1333-4940-af95-98e0a64efd50",
   "metadata": {},
   "source": [
    "##### Nota: converter o atributo count (acima) para inteiro (int) ao invés de real (float)"
   ]
  },
  {
   "cell_type": "code",
   "execution_count": 47,
   "id": "2fc2f27a-46e4-49e6-90e0-268e0d7785f7",
   "metadata": {},
   "outputs": [],
   "source": [
    "layer_list = [] #vazia\n",
    "layer_count = 0"
   ]
  },
  {
   "cell_type": "code",
   "execution_count": 51,
   "id": "f0cd3ecb-095c-40c5-8905-b5655f56736f",
   "metadata": {},
   "outputs": [],
   "source": [
    "layers = cria_lista(lista_layers)"
   ]
  },
  {
   "cell_type": "code",
   "execution_count": 79,
   "id": "e4f5260f-3fd6-4eed-9c0b-b03fdf2b3442",
   "metadata": {},
   "outputs": [
    {
     "data": {
      "text/plain": [
       "list"
      ]
     },
     "execution_count": 79,
     "metadata": {},
     "output_type": "execute_result"
    }
   ],
   "source": [
    "type(layers)"
   ]
  },
  {
   "cell_type": "code",
   "execution_count": 52,
   "id": "83df3b6a-f03b-4fd6-9313-ed3bf46744ab",
   "metadata": {},
   "outputs": [
    {
     "data": {
      "text/plain": [
       "39"
      ]
     },
     "execution_count": 52,
     "metadata": {},
     "output_type": "execute_result"
    }
   ],
   "source": [
    "len(layers)"
   ]
  },
  {
   "cell_type": "code",
   "execution_count": 53,
   "id": "ca7ca197-0cdc-4c4d-b703-bca884a63060",
   "metadata": {},
   "outputs": [],
   "source": [
    "layer_list.append(LayerInfo(layer))"
   ]
  },
  {
   "cell_type": "code",
   "execution_count": 54,
   "id": "815621fa-7d18-464d-ae25-ab81dfd71fe4",
   "metadata": {},
   "outputs": [
    {
     "data": {
      "text/plain": [
       "[<main_format_consistency.LayerInfo at 0x2e57100c400>,\n",
       " <main_format_consistency.LayerInfo at 0x2e571024730>]"
      ]
     },
     "execution_count": 54,
     "metadata": {},
     "output_type": "execute_result"
    }
   ],
   "source": [
    "layer_list"
   ]
  },
  {
   "cell_type": "code",
   "execution_count": 55,
   "id": "8c3f0277-5270-4df3-8ef6-c889975f88a0",
   "metadata": {},
   "outputs": [],
   "source": [
    "#layer_list.name"
   ]
  },
  {
   "cell_type": "code",
   "execution_count": 56,
   "id": "f0289cf2-d7e2-4954-a336-4d1b1eb3df19",
   "metadata": {},
   "outputs": [
    {
     "data": {
      "text/plain": [
       "['__add__',\n",
       " '__class__',\n",
       " '__class_getitem__',\n",
       " '__contains__',\n",
       " '__delattr__',\n",
       " '__delitem__',\n",
       " '__dir__',\n",
       " '__doc__',\n",
       " '__eq__',\n",
       " '__format__',\n",
       " '__ge__',\n",
       " '__getattribute__',\n",
       " '__getitem__',\n",
       " '__gt__',\n",
       " '__hash__',\n",
       " '__iadd__',\n",
       " '__imul__',\n",
       " '__init__',\n",
       " '__init_subclass__',\n",
       " '__iter__',\n",
       " '__le__',\n",
       " '__len__',\n",
       " '__lt__',\n",
       " '__mul__',\n",
       " '__ne__',\n",
       " '__new__',\n",
       " '__reduce__',\n",
       " '__reduce_ex__',\n",
       " '__repr__',\n",
       " '__reversed__',\n",
       " '__rmul__',\n",
       " '__setattr__',\n",
       " '__setitem__',\n",
       " '__sizeof__',\n",
       " '__str__',\n",
       " '__subclasshook__',\n",
       " 'append',\n",
       " 'clear',\n",
       " 'copy',\n",
       " 'count',\n",
       " 'extend',\n",
       " 'index',\n",
       " 'insert',\n",
       " 'pop',\n",
       " 'remove',\n",
       " 'reverse',\n",
       " 'sort']"
      ]
     },
     "execution_count": 56,
     "metadata": {},
     "output_type": "execute_result"
    }
   ],
   "source": [
    "dir(layer_list)"
   ]
  },
  {
   "cell_type": "code",
   "execution_count": 57,
   "id": "9be25c68-000e-4a7f-9fec-5786ef8c57e2",
   "metadata": {},
   "outputs": [
    {
     "data": {
      "text/plain": [
       "'ASB_Cemiterio_P'"
      ]
     },
     "execution_count": 57,
     "metadata": {},
     "output_type": "execute_result"
    }
   ],
   "source": [
    "layer_list[0].name"
   ]
  },
  {
   "cell_type": "markdown",
   "id": "e7e670e3-ac96-4b49-944c-f343386bce6d",
   "metadata": {},
   "source": [
    "###### (DEF) Função para criar uma lista com a síntese de informações das camadas\n",
    "###### A função (def) foi comentada para teste do script \"main_format_consistency.py\""
   ]
  },
  {
   "cell_type": "code",
   "execution_count": 58,
   "id": "740caf8c-4ea3-43e4-b124-99f8efea9130",
   "metadata": {
    "jupyter": {
     "source_hidden": true
    },
    "tags": []
   },
   "outputs": [
    {
     "data": {
      "text/plain": [
       "'\\n# Iterate over all loaded layers\\ndef list_layers(lista_layers):\\n    layer_list = [] #vazia\\n    layer_count = 0\\n    \\n    # Create layer list\\n    layers = QgsProject.instance().mapLayers().values()\\n    if len(layers)==0:\\n        layers = cria_lista(lista_layers)\\n    if len(layers)>0:\\n        for layer in layers:\\n            layer_count += 1\\n            layer_list.append(LayerInfo(layer))\\n    return layer_list \\n'"
      ]
     },
     "execution_count": 58,
     "metadata": {},
     "output_type": "execute_result"
    }
   ],
   "source": [
    "'''\n",
    "# Iterate over all loaded layers\n",
    "def list_layers(lista_layers):\n",
    "    layer_list = [] #vazia\n",
    "    layer_count = 0\n",
    "    \n",
    "    # Create layer list\n",
    "    layers = QgsProject.instance().mapLayers().values()\n",
    "    if len(layers)==0:\n",
    "        layers = cria_lista(lista_layers)\n",
    "    if len(layers)>0:\n",
    "        for layer in layers:\n",
    "            layer_count += 1\n",
    "            layer_list.append(LayerInfo(layer))\n",
    "    return layer_list \n",
    "'''"
   ]
  },
  {
   "cell_type": "code",
   "execution_count": 59,
   "id": "effafcbf-a567-4834-bd68-160ae5282f07",
   "metadata": {
    "tags": []
   },
   "outputs": [],
   "source": [
    "# Entrada = cria_lista (lista_layers)\n",
    "lista_final = list_layers(lista_layers)\n",
    "#lista_final"
   ]
  },
  {
   "cell_type": "code",
   "execution_count": 60,
   "id": "06652774-ea4b-4d52-84e4-580f24a504ed",
   "metadata": {},
   "outputs": [
    {
     "data": {
      "text/plain": [
       "''"
      ]
     },
     "execution_count": 60,
     "metadata": {},
     "output_type": "execute_result"
    }
   ],
   "source": [
    "QgsProject.instance().fileName()"
   ]
  },
  {
   "cell_type": "code",
   "execution_count": 61,
   "id": "1296f10e-47f1-425d-976a-494e1113a55c",
   "metadata": {
    "tags": []
   },
   "outputs": [
    {
     "data": {
      "text/plain": [
       "list"
      ]
     },
     "execution_count": 61,
     "metadata": {},
     "output_type": "execute_result"
    }
   ],
   "source": [
    "type(lista_final)"
   ]
  },
  {
   "cell_type": "code",
   "execution_count": 62,
   "id": "a93e0223-4f42-4868-9ba8-3c2bad81e2a5",
   "metadata": {},
   "outputs": [
    {
     "data": {
      "text/plain": [
       "39"
      ]
     },
     "execution_count": 62,
     "metadata": {},
     "output_type": "execute_result"
    }
   ],
   "source": [
    "len(lista_final)"
   ]
  },
  {
   "cell_type": "code",
   "execution_count": 63,
   "id": "a822e302-6414-4beb-b742-5c1ad8102944",
   "metadata": {},
   "outputs": [
    {
     "data": {
      "text/plain": [
       "<main_format_consistency.LayerInfo at 0x2e570eb2df0>"
      ]
     },
     "execution_count": 63,
     "metadata": {},
     "output_type": "execute_result"
    }
   ],
   "source": [
    "lista_final[0]"
   ]
  },
  {
   "cell_type": "code",
   "execution_count": 64,
   "id": "eccb556f-f8f5-41a9-affa-d4ec30a87da5",
   "metadata": {},
   "outputs": [
    {
     "data": {
      "text/plain": [
       "'HID_Barragem_L'"
      ]
     },
     "execution_count": 64,
     "metadata": {},
     "output_type": "execute_result"
    }
   ],
   "source": [
    "lista_final[10].name"
   ]
  },
  {
   "cell_type": "code",
   "execution_count": 78,
   "id": "35d0dccd-0112-4eba-ac3c-52def5ab6097",
   "metadata": {},
   "outputs": [
    {
     "data": {
      "text/plain": [
       "<main_format_consistency.LayerInfo at 0x2e570fd1fa0>"
      ]
     },
     "execution_count": 78,
     "metadata": {},
     "output_type": "execute_result"
    }
   ],
   "source": [
    "lista_final[10]"
   ]
  },
  {
   "cell_type": "code",
   "execution_count": 65,
   "id": "4f3afccf-6599-4723-9b4f-6808faa85dba",
   "metadata": {
    "jupyter": {
     "source_hidden": true
    },
    "tags": []
   },
   "outputs": [
    {
     "name": "stdout",
     "output_type": "stream",
     "text": [
      "0 ASB_Cemiterio_A\n",
      "1 ASB_Cemiterio_P\n",
      "2 ECO_Edif_Agropec_Ext_Vegetal_Pesca_P\n",
      "3 EDU_Edif_Ensino_P\n",
      "4 ENC_Grupo_Transformadores_A\n",
      "5 ENC_Grupo_Transformadores_P\n",
      "6 ENC_Hidreletrica_P\n",
      "7 ENC_Trecho_Energia_L\n",
      "8 HID_Banco_Areia_A\n",
      "9 HID_Barragem_A\n",
      "10 HID_Barragem_L\n",
      "11 HID_Corredeira_A\n",
      "12 HID_Corredeira_L\n",
      "13 HID_Corredeira_P\n",
      "14 HID_Ilha_A\n",
      "15 HID_Ilha_L\n",
      "16 HID_Ilha_P\n",
      "17 HID_Massa_Dagua_A\n",
      "18 HID_Queda_Dagua_L\n",
      "19 HID_Queda_Dagua_P\n",
      "20 HID_Sumidouro_Vertedouro_P\n",
      "21 HID_Trecho_Drenagem_L\n",
      "22 HID_Trecho_Massa_Dagua_A\n",
      "23 LIM_Unidade_Federacao_A\n",
      "24 LOC_Aglomerado_Rural_Isolado_P\n",
      "25 LOC_Capital_P\n",
      "26 LOC_Cidade_P\n",
      "27 LOC_Vila_P\n",
      "28 TRA_Arruamento_L\n",
      "29 TRA_Passag_Elevada_Viaduto_L\n",
      "30 TRA_Passag_Elevada_Viaduto_P\n",
      "31 TRA_Pista_Ponto_Pouso_L\n",
      "32 TRA_Pista_Ponto_Pouso_P\n",
      "33 TRA_Ponte_L\n",
      "34 TRA_Ponte_P\n",
      "35 TRA_Travessia_L\n",
      "36 TRA_Trecho_Ferroviario_L\n",
      "37 TRA_Trecho_Rodoviario_L\n",
      "38 TRA_Tunel_L\n"
     ]
    }
   ],
   "source": [
    "for id, i in enumerate(lista_final):\n",
    "    print (id, i.name)"
   ]
  },
  {
   "cell_type": "markdown",
   "id": "9e1223aa-fd2a-44d9-8b4f-64ce018b0613",
   "metadata": {},
   "source": [
    "#### (DEF) Função Mostrar Tabela \n",
    "##### Uso somente no QGIS (Tela inicial do plugin)"
   ]
  },
  {
   "cell_type": "code",
   "execution_count": 67,
   "id": "0ff2ec5f-d048-4308-909c-ab0b5604cdfa",
   "metadata": {
    "tags": []
   },
   "outputs": [],
   "source": [
    "#app = QApplication()"
   ]
  },
  {
   "cell_type": "code",
   "execution_count": 68,
   "id": "4628e5f9-ba40-40a7-898f-f545492a3f0d",
   "metadata": {},
   "outputs": [],
   "source": [
    "#table = QTableWidget()"
   ]
  },
  {
   "cell_type": "code",
   "execution_count": 69,
   "id": "24d8fcea-b17e-4435-8d43-011f306b8975",
   "metadata": {},
   "outputs": [],
   "source": [
    "#dlg1 = FormatConsistencyDialog()"
   ]
  },
  {
   "cell_type": "code",
   "execution_count": 71,
   "id": "cdc9fd25-b4c2-4689-ac57-5672b35eb218",
   "metadata": {
    "jupyter": {
     "source_hidden": true
    },
    "tags": []
   },
   "outputs": [
    {
     "data": {
      "text/plain": [
       "'\\ndef mostrar_tabela(self, layers):\\n    camadas_info = list_layers(layers)\\n    # Generate data table\\n    self.dlg1.tableWidget.clear()\\n    self.dlg1.tableWidget.setRowCount(len(layers))\\n    self.dlg1.tableWidget.setColumnCount(6)\\n    self.dlg1.tableWidget.setColumnWidth(0, 200)\\n    self.dlg1.tableWidget.horizontalHeader().setStretchLastSection(True)\\n\\n    self.dlg1.tableWidget.setHorizontalHeaderItem(0, QTableWidgetItem(\"Layer\"))\\n    self.dlg1.tableWidget.setHorizontalHeaderItem(1, QTableWidgetItem(\"SRC\"))\\n    self.dlg1.tableWidget.setHorizontalHeaderItem(2, QTableWidgetItem(\"Econding\"))\\n    self.dlg1.tableWidget.setHorizontalHeaderItem(3, QTableWidgetItem(\"Count\"))\\n    self.dlg1.tableWidget.setHorizontalHeaderItem(4, QTableWidgetItem(\"Format\"))\\n    self.dlg1.tableWidget.setHorizontalHeaderItem(5, QTableWidgetItem(\"isValid\"))\\n\\n    #for layer in camadas_info:\\n    for id, layer in enumerate(camadas_info):            \\n        self.dlg1.tableWidget.setItem(id, 0, QTableWidgetItem(layer.name()))\\n        self.dlg1.tableWidget.setItem(id, 1, QTableWidgetItem(layer.crs().description()))\\n        self.dlg1.tableWidget.setItem(id, 2, QTableWidgetItem(layer.dataProvider().encoding()))\\n        self.dlg1.tableWidget.setItem(id, 3, QTableWidgetItem(str(layer.featureCount())))\\n        self.dlg1.tableWidget.setItem(id, 4, QTableWidgetItem(layer.storageType()))\\n        self.dlg1.tableWidget.setItem(id, 5, QTableWidgetItem(str(layer.isValid())))\\n\\n    self.dlg1.tableWidget.move(0, 0)\\n'"
      ]
     },
     "execution_count": 71,
     "metadata": {},
     "output_type": "execute_result"
    }
   ],
   "source": [
    "'''\n",
    "def mostrar_tabela(self, layers):\n",
    "    camadas_info = list_layers(layers)\n",
    "    # Generate data table\n",
    "    self.dlg1.tableWidget.clear()\n",
    "    self.dlg1.tableWidget.setRowCount(len(layers))\n",
    "    self.dlg1.tableWidget.setColumnCount(6)\n",
    "    self.dlg1.tableWidget.setColumnWidth(0, 200)\n",
    "    self.dlg1.tableWidget.horizontalHeader().setStretchLastSection(True)\n",
    "\n",
    "    self.dlg1.tableWidget.setHorizontalHeaderItem(0, QTableWidgetItem(\"Layer\"))\n",
    "    self.dlg1.tableWidget.setHorizontalHeaderItem(1, QTableWidgetItem(\"SRC\"))\n",
    "    self.dlg1.tableWidget.setHorizontalHeaderItem(2, QTableWidgetItem(\"Econding\"))\n",
    "    self.dlg1.tableWidget.setHorizontalHeaderItem(3, QTableWidgetItem(\"Count\"))\n",
    "    self.dlg1.tableWidget.setHorizontalHeaderItem(4, QTableWidgetItem(\"Format\"))\n",
    "    self.dlg1.tableWidget.setHorizontalHeaderItem(5, QTableWidgetItem(\"isValid\"))\n",
    "\n",
    "    #for layer in camadas_info:\n",
    "    for id, layer in enumerate(camadas_info):            \n",
    "        self.dlg1.tableWidget.setItem(id, 0, QTableWidgetItem(layer.name()))\n",
    "        self.dlg1.tableWidget.setItem(id, 1, QTableWidgetItem(layer.crs().description()))\n",
    "        self.dlg1.tableWidget.setItem(id, 2, QTableWidgetItem(layer.dataProvider().encoding()))\n",
    "        self.dlg1.tableWidget.setItem(id, 3, QTableWidgetItem(str(layer.featureCount())))\n",
    "        self.dlg1.tableWidget.setItem(id, 4, QTableWidgetItem(layer.storageType()))\n",
    "        self.dlg1.tableWidget.setItem(id, 5, QTableWidgetItem(str(layer.isValid())))\n",
    "\n",
    "    self.dlg1.tableWidget.move(0, 0)\n",
    "'''"
   ]
  },
  {
   "cell_type": "code",
   "execution_count": 72,
   "id": "74bbba44-6054-4bac-b170-c4ab3c923268",
   "metadata": {},
   "outputs": [],
   "source": [
    "layersTeste = QgsProject.instance().mapLayers().values()"
   ]
  },
  {
   "cell_type": "code",
   "execution_count": 73,
   "id": "db3b41ba-ecba-48d5-b94f-4b7f5263e85d",
   "metadata": {},
   "outputs": [
    {
     "data": {
      "text/plain": [
       "dict_values"
      ]
     },
     "execution_count": 73,
     "metadata": {},
     "output_type": "execute_result"
    }
   ],
   "source": [
    "type(layersTeste)"
   ]
  },
  {
   "cell_type": "code",
   "execution_count": 74,
   "id": "a375f6d2-7617-4d4b-a239-ca372f880d72",
   "metadata": {},
   "outputs": [
    {
     "data": {
      "text/plain": [
       "True"
      ]
     },
     "execution_count": 74,
     "metadata": {},
     "output_type": "execute_result"
    }
   ],
   "source": [
    "len(layersTeste)==0"
   ]
  },
  {
   "cell_type": "code",
   "execution_count": 75,
   "id": "8f863e98-0f9f-42fa-b18b-b4b92c191304",
   "metadata": {},
   "outputs": [
    {
     "data": {
      "text/plain": [
       "'\\ndef save_to_file():\\n    dialog = QFileDialog()\\n    name = dialog.getSaveFileName(None, \"Export result to CSV\", \"\", \"CSV file (*.csv)\")\\n    if name[0] == \"\":\\n        return None\\n        \\n    save_file = open(name[0], \\'w\\')\\n        \\n    for i in layer_list:\\n        save_file.write(\"%s,%s\\n\" % (i.name, i.crs))\\n        \\n    save_file.close()\\n'"
      ]
     },
     "execution_count": 75,
     "metadata": {},
     "output_type": "execute_result"
    }
   ],
   "source": [
    "'''\n",
    "def save_to_file():\n",
    "    dialog = QFileDialog()\n",
    "    name = dialog.getSaveFileName(None, \"Export result to CSV\", \"\", \"CSV file (*.csv)\")\n",
    "    if name[0] == \"\":\n",
    "        return None\n",
    "        \n",
    "    save_file = open(name[0], 'w')\n",
    "        \n",
    "    for i in layer_list:\n",
    "        save_file.write(\"%s,%s\\n\" % (i.name, i.crs))\n",
    "        \n",
    "    save_file.close()\n",
    "'''"
   ]
  },
  {
   "cell_type": "code",
   "execution_count": null,
   "id": "f564e0fb-5db5-417c-9bcd-f880029dc357",
   "metadata": {},
   "outputs": [],
   "source": []
  },
  {
   "cell_type": "markdown",
   "id": "3213f839-9690-4c2b-8c5f-2e8a2d6e8d90",
   "metadata": {},
   "source": [
    "### Script Principal FormatConsistency.py"
   ]
  },
  {
   "cell_type": "code",
   "execution_count": 261,
   "id": "0c6020ba-4194-4de5-802e-56258ef287d0",
   "metadata": {
    "tags": []
   },
   "outputs": [],
   "source": [
    "class FormatConsistency:\n",
    "    \"\"\"QGIS Plugin Implementation.\"\"\"\n",
    "\n",
    "    def __init__(self, iface):\n",
    "        \"\"\"Constructor.\n",
    "\n",
    "        :param iface: An interface instance that will be passed to this class\n",
    "            which provides the hook by which you can manipulate the QGIS\n",
    "            application at run time.\n",
    "        :type iface: QgsInterface\n",
    "        \"\"\"\n",
    "        # Save reference to the QGIS interface\n",
    "        self.iface = iface\n",
    "        # Initialize plugin directory\n",
    "        self.plugin_dir = os.path.dirname(__file__)\n",
    "        # Initialize locale\n",
    "        locale = QSettings().value('locale/userLocale')[0:2]\n",
    "        locale_path = os.path.join(\n",
    "            self.plugin_dir,\n",
    "            'i18n',\n",
    "            'FormatConsistency_{}.qm'.format(locale))\n",
    "\n",
    "        if os.path.exists(locale_path):\n",
    "            self.translator = QTranslator()\n",
    "            self.translator.load(locale_path)\n",
    "\n",
    "            if qVersion() > '4.3.3':\n",
    "                QCoreApplication.installTranslator(self.translator)\n",
    "\n",
    "        # Create the dialog (after translation) and keep reference\n",
    "        self.dlg1 = FormatConsistencyDialog()\n",
    "\n",
    "        # Declare instance attributes\n",
    "        self.actions = []\n",
    "        self.menu = self.tr(u'&Format consistency') ###\n",
    "        # TODO: We are going to let the user set this up in a future iteration\n",
    "        self.toolbar = self.iface.addToolBar(u'FormatConsistency')\n",
    "        self.toolbar.setObjectName(u'FormatConsistency')\n",
    "\n",
    "        ###Select output\n",
    "        #self.dlg1.lineEdit.clear()\n",
    "        #self.dlg1.toolButton.clicked.connect(self.select_output)\n",
    "\n",
    "    # noinspection PyMethodMayBeStatic\n",
    "    def tr(self, message):\n",
    "        \"\"\"Get the translation for a string using Qt translation API.\n",
    "\n",
    "        We implement this ourselves since we do not inherit QObject.\n",
    "\n",
    "        :param message: String for translation.\n",
    "        :type message: str, QString\n",
    "\n",
    "        :returns: Translated version of message.\n",
    "        :rtype: QString\n",
    "        \"\"\"\n",
    "        # noinspection PyTypeChecker,PyArgumentList,PyCallByClass\n",
    "        return QCoreApplication.translate('FormatConsistency', message)\n",
    "\n",
    "    def add_action(\n",
    "            self,\n",
    "            icon_path,\n",
    "            text,\n",
    "            callback,\n",
    "            enabled_flag=True,\n",
    "            add_to_menu=True,\n",
    "            add_to_toolbar=True,\n",
    "            status_tip=None,\n",
    "            whats_this=None,\n",
    "            parent=None):\n",
    "\n",
    "        icon = QIcon(icon_path)\n",
    "        action = QAction(icon, text, parent)\n",
    "        action.triggered.connect(callback)\n",
    "        action.setEnabled(enabled_flag)\n",
    "\n",
    "        if status_tip is not None:\n",
    "            action.setStatusTip(status_tip)\n",
    "\n",
    "        if whats_this is not None:\n",
    "            action.setWhatsThis(whats_this)\n",
    "\n",
    "        if add_to_toolbar:\n",
    "            self.iface.addToolBarIcon(action)\n",
    "\n",
    "        if add_to_menu:\n",
    "            self.iface.addPluginToVectorMenu(\n",
    "                self.menu,\n",
    "                action)\n",
    "\n",
    "        self.actions.append(action)\n",
    "\n",
    "        return action\n",
    "\n",
    "    def initGui(self):\n",
    "        \"\"\"Create the menu entries and toolbar icons inside the QGIS GUI.\"\"\"\n",
    "\n",
    "        # icon_path = ':/plugins/FormatConsistency/icon.ico'\n",
    "        # self.add_action(\n",
    "        #     icon_path,\n",
    "        #     text=self.tr(u'Format consistency'),\n",
    "        #     callback=self.check,\n",
    "        #     #callback=self.run,\n",
    "        #     parent=self.iface.mainWindow())\n",
    "        \n",
    "        # will be set False in run() define check convert\n",
    "        #self.first_start = True\n",
    "\n",
    "        self.add_action(\n",
    "            ':/plugins/FormatConsistency/icon.ico',\n",
    "            text=QApplication.translate('Format consistency', u'Format consistency'),\n",
    "            callback=self.check,\n",
    "            parent=self.iface.mainWindow(),\n",
    "            status_tip=QApplication.translate('Format consistency', 'Format consistency'))\n",
    "\n",
    "    def unload(self):\n",
    "        \"\"\"Removes the plugin menu item and icon from QGIS GUI.\"\"\"\n",
    "        for action in self.actions:\n",
    "            self.iface.removePluginVectorMenu(\n",
    "                self.tr(u'&Format consistency'),\n",
    "                action)\n",
    "            self.iface.removeToolBarIcon(action)\n",
    "        # remove the toolbar\n",
    "        del self.toolbar\n",
    "\n",
    "    # Select output file\n",
    "    # def select_output(self):\n",
    "    #     output_dir = QFileDialog.getExistingDirectory(self.dlg1, \"Select folder\", \"\")\n",
    "    #     #self.dlg1.lineEdit.setText(output_dir)\n",
    "\n",
    "    # def run(self):\n",
    "    #     \"\"\"Run method that performs all the real work\"\"\"\n",
    "    #     # show the dialog\n",
    "    #     self.dlg.show()\n",
    "    #\n",
    "    #     self.dlg.pushButton.clicked.connect(self.check)\n",
    "\n",
    "    def check(self):\n",
    "        ### Begin to simulate in the python terminal\n",
    "        # layers = QgsProject.instance().mapLayers().values() \n",
    "        #ly = iface.activeLayer()\n",
    "        #ly.name()\n",
    "        #selection = ly\n",
    "        #dp = ly.dataProvider()\n",
    "        #lyrInput = selection\n",
    "        #Nivel_de_Inspecao = 1\n",
    "        #path_project = QgsProject.instance().fileName()\n",
    "        #path_project = path_project[:path_project.rfind(\"/\"):]\n",
    "        #directory = path_project + \"/samples\"\n",
    "        ### End to simulate in the python terminal\n",
    "        \n",
    "        # Create layer list\n",
    "        layers = QgsProject.instance().mapLayers().values()\n",
    "\n",
    "        class LayerInfo:\n",
    "            name = \"\"\n",
    "            crs = \"\"\n",
    "            econding = \"\"\n",
    "            count_ = \"\"\n",
    "            formato = \"\"\n",
    "            is_Valid = \"\"\n",
    "\n",
    "        # Generate data table\n",
    "        self.dlg1.tableWidget.clear()\n",
    "        self.dlg1.tableWidget.setRowCount(len(layers))\n",
    "        self.dlg1.tableWidget.setColumnCount(6)\n",
    "        self.dlg1.tableWidget.setColumnWidth(0, 200)\n",
    "        self.dlg1.tableWidget.horizontalHeader().setStretchLastSection(True)\n",
    "\n",
    "        self.dlg1.tableWidget.setHorizontalHeaderItem(0, QTableWidgetItem(\"Layer\"))\n",
    "        self.dlg1.tableWidget.setHorizontalHeaderItem(1, QTableWidgetItem(\"SRC\"))\n",
    "        self.dlg1.tableWidget.setHorizontalHeaderItem(2, QTableWidgetItem(\"Econding\"))\n",
    "        self.dlg1.tableWidget.setHorizontalHeaderItem(3, QTableWidgetItem(\"Count\"))\n",
    "        self.dlg1.tableWidget.setHorizontalHeaderItem(4, QTableWidgetItem(\"Format\"))\n",
    "        self.dlg1.tableWidget.setHorizontalHeaderItem(5, QTableWidgetItem(\"isValid\"))\n",
    "\n",
    "        # Iterate over all loaded layers\n",
    "        layer_list = []\n",
    "        layer_count = 0\n",
    "\n",
    "        for layer in layers:\n",
    "            layer_count += 1\n",
    "\n",
    "            layer_list.append(LayerInfo)\n",
    "            layer_list[layer_count - 1].name = layer.name()\n",
    "            layer_list[layer_count - 1].crs = layer.crs().description()\n",
    "            try:\n",
    "                layer_list[layer_count - 1].econding = layer.dataProvider().encoding()\n",
    "                layer_list[layer_count - 1].count_ = layer.featureCount()\n",
    "                layer_list[layer_count - 1].formato = layer.storageType()\n",
    "            except AttributeError:\n",
    "                pass\n",
    "            \n",
    "            layer_list[layer_count - 1].is_Valid = layer.isValid()\n",
    "            \n",
    "            self.dlg1.tableWidget.setItem(layer_count - 1, 0, QTableWidgetItem(layer.name()))\n",
    "            self.dlg1.tableWidget.setItem(layer_count - 1, 1, QTableWidgetItem(layer.crs().description()))\n",
    "            try: \n",
    "                self.dlg1.tableWidget.setItem(layer_count - 1, 2, QTableWidgetItem(layer.dataProvider().encoding()))\n",
    "                self.dlg1.tableWidget.setItem(layer_count - 1, 3, QTableWidgetItem(str(layer.featureCount())))\n",
    "                self.dlg1.tableWidget.setItem(layer_count - 1, 4, QTableWidgetItem(layer.storageType()))\n",
    "            except AttributeError:\n",
    "                pass\n",
    "            \n",
    "            self.dlg1.tableWidget.setItem(layer_count - 1, 5, QTableWidgetItem(str(layer.isValid())))\n",
    "\n",
    "        self.dlg1.tableWidget.move(0, 0)\n",
    "\n",
    "        def save_to_file():\n",
    "            dialog = QFileDialog()\n",
    "            name = dialog.getSaveFileName(None, \"Export result to CSV\", \"\", \"CSV file (*.csv)\")\n",
    "            if name[0] == \"\":\n",
    "                return None\n",
    "        \n",
    "            save_file = open(name[0], 'w')\n",
    "        \n",
    "            for i in layer_list:\n",
    "                save_file.write(\"%s,%s\\n\" % (i.name, i.crs))\n",
    "        \n",
    "            save_file.close()\n",
    "\n",
    "        self.dlg1.show()\n",
    "        #self.dlg1.pushButton.clicked.connect(save_to_file) "
   ]
  },
  {
   "cell_type": "code",
   "execution_count": null,
   "id": "9890159e-b583-4892-be32-c3f99c19a73c",
   "metadata": {
    "jupyter": {
     "source_hidden": true
    },
    "tags": []
   },
   "outputs": [],
   "source": [
    "def mostrar_tabela(self, layers):\n",
    "    camadas_info = list_layers(layers)\n",
    "    # Generate data table\n",
    "    self.dlg1.tableWidget.clear()\n",
    "    self.dlg1.tableWidget.setRowCount(len(layers))\n",
    "    self.dlg1.tableWidget.setColumnCount(6)\n",
    "    self.dlg1.tableWidget.setColumnWidth(0, 200)\n",
    "    self.dlg1.tableWidget.horizontalHeader().setStretchLastSection(True)\n",
    "\n",
    "    self.dlg1.tableWidget.setHorizontalHeaderItem(0, QTableWidgetItem(\"Layer\"))\n",
    "    self.dlg1.tableWidget.setHorizontalHeaderItem(1, QTableWidgetItem(\"SRC\"))\n",
    "    self.dlg1.tableWidget.setHorizontalHeaderItem(2, QTableWidgetItem(\"Econding\"))\n",
    "    self.dlg1.tableWidget.setHorizontalHeaderItem(3, QTableWidgetItem(\"Count\"))\n",
    "    self.dlg1.tableWidget.setHorizontalHeaderItem(4, QTableWidgetItem(\"Format\"))\n",
    "    self.dlg1.tableWidget.setHorizontalHeaderItem(5, QTableWidgetItem(\"isValid\"))\n",
    "\n",
    "    # Iterate over all loaded layers\n",
    "    #layer_list = []\n",
    "    #layer_count = 0\n",
    "\n",
    "        #for layer in camadas_info:\n",
    "        for id, layer in enumerate(camadas_info):\n",
    "            #layer_count += 1\n",
    "            #layer_list.append(LayerInfo)\n",
    "            #layer_list[layer_count - 1].name = layer.name()\n",
    "            #layer_list[layer_count - 1].crs = layer.crs().description()\n",
    "            #try:\n",
    "            #    layer_list[layer_count - 1].econding = layer.dataProvider().encoding()\n",
    "            #    layer_list[layer_count - 1].count_ = layer.featureCount()\n",
    "            #    layer_list[layer_count - 1].formato = layer.storageType()\n",
    "            #except AttributeError:\n",
    "            #    pass\n",
    "            \n",
    "            #layer_list[layer_count - 1].is_Valid = layer.isValid()\n",
    "            \n",
    "            self.dlg1.tableWidget.setItem(id, 0, QTableWidgetItem(layer.name()))\n",
    "            self.dlg1.tableWidget.setItem(id, 1, QTableWidgetItem(layer.crs().description()))\n",
    "            self.dlg1.tableWidget.setItem(id, 2, QTableWidgetItem(layer.dataProvider().encoding()))\n",
    "            self.dlg1.tableWidget.setItem(id, 3, QTableWidgetItem(str(layer.featureCount())))\n",
    "            self.dlg1.tableWidget.setItem(id, 4, QTableWidgetItem(layer.storageType()))\n",
    "            self.dlg1.tableWidget.setItem(id, 5, QTableWidgetItem(str(layer.isValid())))\n",
    "\n",
    "        self.dlg1.tableWidget.move(0, 0)"
   ]
  }
 ],
 "metadata": {
  "kernelspec": {
   "display_name": "Python 3 (ipykernel)",
   "language": "python",
   "name": "python3"
  },
  "language_info": {
   "codemirror_mode": {
    "name": "ipython",
    "version": 3
   },
   "file_extension": ".py",
   "mimetype": "text/x-python",
   "name": "python",
   "nbconvert_exporter": "python",
   "pygments_lexer": "ipython3",
   "version": "3.9.7"
  }
 },
 "nbformat": 4,
 "nbformat_minor": 5
}
